{
  "nbformat": 4,
  "nbformat_minor": 0,
  "metadata": {
    "colab": {
      "provenance": [],
      "authorship_tag": "ABX9TyNqyzMMwUAGheVGAoZ6fSqd",
      "include_colab_link": true
    },
    "kernelspec": {
      "name": "python3",
      "display_name": "Python 3"
    },
    "language_info": {
      "name": "python"
    }
  },
  "cells": [
    {
      "cell_type": "markdown",
      "metadata": {
        "id": "view-in-github",
        "colab_type": "text"
      },
      "source": [
        "<a href=\"https://colab.research.google.com/github/halfChewedGum/python-practice/blob/main/Pandas_00.ipynb\" target=\"_parent\"><img src=\"https://colab.research.google.com/assets/colab-badge.svg\" alt=\"Open In Colab\"/></a>"
      ]
    },
    {
      "cell_type": "markdown",
      "source": [
        "This notebook is going to cover everything there is about Pandas for Data Manipulation. I'm following the book by Matt Harrison. I'll cover Chapter by Chapter, and try to work on the same dataset for all of it. "
      ],
      "metadata": {
        "id": "frcaRrY4U7o8"
      }
    },
    {
      "cell_type": "markdown",
      "source": [
        "# Chapter 1 - Introductions \n",
        "# Chapter 2 - Installs and Version Check\n"
      ],
      "metadata": {
        "id": "vLwDAgB6YiyS"
      }
    },
    {
      "cell_type": "code",
      "source": [
        "#check pandas version - 1 \n",
        "import pandas \n",
        "pd.__version__\n"
      ],
      "metadata": {
        "colab": {
          "base_uri": "https://localhost:8080/",
          "height": 35
        },
        "id": "H5USJCHZXrdh",
        "outputId": "5e7f4023-eef3-4a27-981a-ca2afee8e23d"
      },
      "execution_count": 6,
      "outputs": [
        {
          "output_type": "execute_result",
          "data": {
            "text/plain": [
              "'1.3.5'"
            ],
            "application/vnd.google.colaboratory.intrinsic+json": {
              "type": "string"
            }
          },
          "metadata": {},
          "execution_count": 6
        }
      ]
    },
    {
      "cell_type": "code",
      "source": [
        "#check pandas version - 2 \n",
        "\n",
        "pd.show_versions()"
      ],
      "metadata": {
        "colab": {
          "base_uri": "https://localhost:8080/"
        },
        "id": "MY54okU4Y26r",
        "outputId": "28d51996-dfd1-4055-f016-325991a534e7"
      },
      "execution_count": 7,
      "outputs": [
        {
          "output_type": "stream",
          "name": "stdout",
          "text": [
            "\n",
            "INSTALLED VERSIONS\n",
            "------------------\n",
            "commit           : 66e3805b8cabe977f40c05259cc3fcf7ead5687d\n",
            "python           : 3.8.16.final.0\n",
            "python-bits      : 64\n",
            "OS               : Linux\n",
            "OS-release       : 5.10.147+\n",
            "Version          : #1 SMP Sat Dec 10 16:00:40 UTC 2022\n",
            "machine          : x86_64\n",
            "processor        : x86_64\n",
            "byteorder        : little\n",
            "LC_ALL           : None\n",
            "LANG             : en_US.UTF-8\n",
            "LOCALE           : en_US.UTF-8\n",
            "\n",
            "pandas           : 1.3.5\n",
            "numpy            : 1.21.6\n",
            "pytz             : 2022.7\n",
            "dateutil         : 2.8.2\n",
            "pip              : 22.0.4\n",
            "setuptools       : 57.4.0\n",
            "Cython           : 0.29.32\n",
            "pytest           : 3.6.4\n",
            "hypothesis       : None\n",
            "sphinx           : 3.5.4\n",
            "blosc            : None\n",
            "feather          : 0.4.1\n",
            "xlsxwriter       : None\n",
            "lxml.etree       : 4.9.2\n",
            "html5lib         : 1.0.1\n",
            "pymysql          : None\n",
            "psycopg2         : 2.9.5 (dt dec pq3 ext lo64)\n",
            "jinja2           : 2.11.3\n",
            "IPython          : 7.9.0\n",
            "pandas_datareader: 0.9.0\n",
            "bs4              : 4.6.3\n",
            "bottleneck       : None\n",
            "fsspec           : 2022.11.0\n",
            "fastparquet      : None\n",
            "gcsfs            : None\n",
            "matplotlib       : 3.2.2\n",
            "numexpr          : 2.8.4\n",
            "odfpy            : None\n",
            "openpyxl         : 3.0.10\n",
            "pandas_gbq       : 0.17.9\n",
            "pyarrow          : 9.0.0\n",
            "pyxlsb           : None\n",
            "s3fs             : None\n",
            "scipy            : 1.7.3\n",
            "sqlalchemy       : 1.4.46\n",
            "tables           : 3.7.0\n",
            "tabulate         : 0.8.10\n",
            "xarray           : 2022.12.0\n",
            "xlrd             : 1.2.0\n",
            "xlwt             : 1.3.0\n",
            "numba            : 0.56.4\n"
          ]
        }
      ]
    },
    {
      "cell_type": "markdown",
      "source": [
        "# Chapter 3 - Data Structures\n",
        "# Chapter 4 - Data Structures : Series "
      ],
      "metadata": {
        "id": "cHJIaxrUZXj4"
      }
    },
    {
      "cell_type": "code",
      "source": [
        "#what is behind a series \n",
        "\n",
        "dictionary_behind_series = {\n",
        "    'index': [0, 1, 2, 3],\n",
        "    'data': ['HP and Stone', 'HP and Chamber', 'HP and Azkaban', 'HP and Golbet of Fire'],\n",
        "    'name': 'First four HP movies' \n",
        "}\n",
        "\n",
        "dictionary_behind_series"
      ],
      "metadata": {
        "id": "6VuEevOoZPhh",
        "colab": {
          "base_uri": "https://localhost:8080/"
        },
        "outputId": "7f1d39ed-52e6-497c-b595-5f4dd27df4ac"
      },
      "execution_count": 8,
      "outputs": [
        {
          "output_type": "execute_result",
          "data": {
            "text/plain": [
              "{'index': [0, 1, 2, 3],\n",
              " 'data': ['HP and Stone',\n",
              "  'HP and Chamber',\n",
              "  'HP and Azkaban',\n",
              "  'HP and Golbet of Fire'],\n",
              " 'name': 'First four HP movies'}"
            ]
          },
          "metadata": {},
          "execution_count": 8
        }
      ]
    },
    {
      "cell_type": "code",
      "source": [
        "#a function to read something from this by turning it into a series \n",
        "\n",
        "def get(some_dict, ind):\n",
        "  \"\"\"Get from some dictionary, an index value\"\"\"\n",
        "\n",
        "  value = some_dict['index'].index(ind)\n",
        "  return some_dict['data'][value]\n",
        "\n",
        "#what is the fourth Harry potter movie? \n",
        "get(dictionary_behind_series, 3)"
      ],
      "metadata": {
        "colab": {
          "base_uri": "https://localhost:8080/",
          "height": 35
        },
        "id": "AxwTBDaZZH0t",
        "outputId": "45d0d014-6bdc-4626-d213-7cc38cad5d94"
      },
      "execution_count": 9,
      "outputs": [
        {
          "output_type": "execute_result",
          "data": {
            "text/plain": [
              "'HP and Golbet of Fire'"
            ],
            "application/vnd.google.colaboratory.intrinsic+json": {
              "type": "string"
            }
          },
          "metadata": {},
          "execution_count": 9
        }
      ]
    },
    {
      "cell_type": "code",
      "source": [
        "#NaN values\n",
        "\n",
        "nan_series1_error = pd.Series([1, None], index = ['Num1', 'Num2'], dtype = 'int64')\n",
        "\n",
        "\n"
      ],
      "metadata": {
        "colab": {
          "base_uri": "https://localhost:8080/",
          "height": 389
        },
        "id": "t1OIOq6-afOV",
        "outputId": "6927ffe9-bdd7-4df8-eacb-0f3965faeceb"
      },
      "execution_count": 10,
      "outputs": [
        {
          "output_type": "error",
          "ename": "TypeError",
          "evalue": "ignored",
          "traceback": [
            "\u001b[0;31m---------------------------------------------------------------------------\u001b[0m",
            "\u001b[0;31mTypeError\u001b[0m                                 Traceback (most recent call last)",
            "\u001b[0;32m<ipython-input-10-4fa4076ff128>\u001b[0m in \u001b[0;36m<module>\u001b[0;34m\u001b[0m\n\u001b[1;32m      1\u001b[0m \u001b[0;31m#NaN values\u001b[0m\u001b[0;34m\u001b[0m\u001b[0;34m\u001b[0m\u001b[0;34m\u001b[0m\u001b[0m\n\u001b[1;32m      2\u001b[0m \u001b[0;34m\u001b[0m\u001b[0m\n\u001b[0;32m----> 3\u001b[0;31m \u001b[0mnan_series1_error\u001b[0m \u001b[0;34m=\u001b[0m \u001b[0mpd\u001b[0m\u001b[0;34m.\u001b[0m\u001b[0mSeries\u001b[0m\u001b[0;34m(\u001b[0m\u001b[0;34m[\u001b[0m\u001b[0;36m1\u001b[0m\u001b[0;34m,\u001b[0m \u001b[0;32mNone\u001b[0m\u001b[0;34m]\u001b[0m\u001b[0;34m,\u001b[0m \u001b[0mindex\u001b[0m \u001b[0;34m=\u001b[0m \u001b[0;34m[\u001b[0m\u001b[0;34m'Num1'\u001b[0m\u001b[0;34m,\u001b[0m \u001b[0;34m'Num2'\u001b[0m\u001b[0;34m]\u001b[0m\u001b[0;34m,\u001b[0m \u001b[0mdtype\u001b[0m \u001b[0;34m=\u001b[0m \u001b[0;34m'int64'\u001b[0m\u001b[0;34m)\u001b[0m\u001b[0;34m\u001b[0m\u001b[0;34m\u001b[0m\u001b[0m\n\u001b[0m\u001b[1;32m      4\u001b[0m \u001b[0mnan_series2\u001b[0m \u001b[0;34m=\u001b[0m \u001b[0mpd\u001b[0m\u001b[0;34m.\u001b[0m\u001b[0mSeries\u001b[0m\u001b[0;34m(\u001b[0m\u001b[0;34m[\u001b[0m\u001b[0;36m2\u001b[0m\u001b[0;34m,\u001b[0m \u001b[0;32mNone\u001b[0m\u001b[0;34m]\u001b[0m\u001b[0;34m,\u001b[0m \u001b[0mindex\u001b[0m \u001b[0;34m=\u001b[0m \u001b[0;34m[\u001b[0m\u001b[0;34m'Num1'\u001b[0m\u001b[0;34m,\u001b[0m \u001b[0;34m'Num2'\u001b[0m\u001b[0;34m]\u001b[0m\u001b[0;34m,\u001b[0m \u001b[0mdtype\u001b[0m \u001b[0;34m=\u001b[0m \u001b[0;34m'Int64'\u001b[0m\u001b[0;34m)\u001b[0m\u001b[0;34m\u001b[0m\u001b[0;34m\u001b[0m\u001b[0m\n\u001b[1;32m      5\u001b[0m \u001b[0mnan_series3\u001b[0m \u001b[0;34m=\u001b[0m \u001b[0mpd\u001b[0m\u001b[0;34m.\u001b[0m\u001b[0mSeries\u001b[0m\u001b[0;34m(\u001b[0m\u001b[0;34m[\u001b[0m\u001b[0;36m3\u001b[0m\u001b[0;34m,\u001b[0m \u001b[0;32mNone\u001b[0m\u001b[0;34m]\u001b[0m\u001b[0;34m,\u001b[0m \u001b[0mindex\u001b[0m \u001b[0;34m=\u001b[0m \u001b[0;34m[\u001b[0m\u001b[0;34m'Num1'\u001b[0m\u001b[0;34m,\u001b[0m \u001b[0;34m'Num2'\u001b[0m\u001b[0;34m]\u001b[0m\u001b[0;34m)\u001b[0m\u001b[0;34m\u001b[0m\u001b[0;34m\u001b[0m\u001b[0m\n",
            "\u001b[0;32m/usr/local/lib/python3.8/dist-packages/pandas/core/series.py\u001b[0m in \u001b[0;36m__init__\u001b[0;34m(self, data, index, dtype, name, copy, fastpath)\u001b[0m\n\u001b[1;32m    437\u001b[0m                     \u001b[0mdata\u001b[0m \u001b[0;34m=\u001b[0m \u001b[0mdata\u001b[0m\u001b[0;34m.\u001b[0m\u001b[0mcopy\u001b[0m\u001b[0;34m(\u001b[0m\u001b[0;34m)\u001b[0m\u001b[0;34m\u001b[0m\u001b[0;34m\u001b[0m\u001b[0m\n\u001b[1;32m    438\u001b[0m             \u001b[0;32melse\u001b[0m\u001b[0;34m:\u001b[0m\u001b[0;34m\u001b[0m\u001b[0;34m\u001b[0m\u001b[0m\n\u001b[0;32m--> 439\u001b[0;31m                 \u001b[0mdata\u001b[0m \u001b[0;34m=\u001b[0m \u001b[0msanitize_array\u001b[0m\u001b[0;34m(\u001b[0m\u001b[0mdata\u001b[0m\u001b[0;34m,\u001b[0m \u001b[0mindex\u001b[0m\u001b[0;34m,\u001b[0m \u001b[0mdtype\u001b[0m\u001b[0;34m,\u001b[0m \u001b[0mcopy\u001b[0m\u001b[0;34m)\u001b[0m\u001b[0;34m\u001b[0m\u001b[0;34m\u001b[0m\u001b[0m\n\u001b[0m\u001b[1;32m    440\u001b[0m \u001b[0;34m\u001b[0m\u001b[0m\n\u001b[1;32m    441\u001b[0m                 \u001b[0mmanager\u001b[0m \u001b[0;34m=\u001b[0m \u001b[0mget_option\u001b[0m\u001b[0;34m(\u001b[0m\u001b[0;34m\"mode.data_manager\"\u001b[0m\u001b[0;34m)\u001b[0m\u001b[0;34m\u001b[0m\u001b[0;34m\u001b[0m\u001b[0m\n",
            "\u001b[0;32m/usr/local/lib/python3.8/dist-packages/pandas/core/construction.py\u001b[0m in \u001b[0;36msanitize_array\u001b[0;34m(data, index, dtype, copy, raise_cast_failure, allow_2d)\u001b[0m\n\u001b[1;32m    567\u001b[0m \u001b[0;34m\u001b[0m\u001b[0m\n\u001b[1;32m    568\u001b[0m         \u001b[0;32mif\u001b[0m \u001b[0mdtype\u001b[0m \u001b[0;32mis\u001b[0m \u001b[0;32mnot\u001b[0m \u001b[0;32mNone\u001b[0m \u001b[0;32mor\u001b[0m \u001b[0mlen\u001b[0m\u001b[0;34m(\u001b[0m\u001b[0mdata\u001b[0m\u001b[0;34m)\u001b[0m \u001b[0;34m==\u001b[0m \u001b[0;36m0\u001b[0m\u001b[0;34m:\u001b[0m\u001b[0;34m\u001b[0m\u001b[0;34m\u001b[0m\u001b[0m\n\u001b[0;32m--> 569\u001b[0;31m             \u001b[0msubarr\u001b[0m \u001b[0;34m=\u001b[0m \u001b[0m_try_cast\u001b[0m\u001b[0;34m(\u001b[0m\u001b[0mdata\u001b[0m\u001b[0;34m,\u001b[0m \u001b[0mdtype\u001b[0m\u001b[0;34m,\u001b[0m \u001b[0mcopy\u001b[0m\u001b[0;34m,\u001b[0m \u001b[0mraise_cast_failure\u001b[0m\u001b[0;34m)\u001b[0m\u001b[0;34m\u001b[0m\u001b[0;34m\u001b[0m\u001b[0m\n\u001b[0m\u001b[1;32m    570\u001b[0m         \u001b[0;32melse\u001b[0m\u001b[0;34m:\u001b[0m\u001b[0;34m\u001b[0m\u001b[0;34m\u001b[0m\u001b[0m\n\u001b[1;32m    571\u001b[0m             \u001b[0msubarr\u001b[0m \u001b[0;34m=\u001b[0m \u001b[0mmaybe_convert_platform\u001b[0m\u001b[0;34m(\u001b[0m\u001b[0mdata\u001b[0m\u001b[0;34m)\u001b[0m\u001b[0;34m\u001b[0m\u001b[0;34m\u001b[0m\u001b[0m\n",
            "\u001b[0;32m/usr/local/lib/python3.8/dist-packages/pandas/core/construction.py\u001b[0m in \u001b[0;36m_try_cast\u001b[0;34m(arr, dtype, copy, raise_cast_failure)\u001b[0m\n\u001b[1;32m    752\u001b[0m             \u001b[0;31m# this will raise if we have e.g. floats\u001b[0m\u001b[0;34m\u001b[0m\u001b[0;34m\u001b[0m\u001b[0;34m\u001b[0m\u001b[0m\n\u001b[1;32m    753\u001b[0m \u001b[0;34m\u001b[0m\u001b[0m\n\u001b[0;32m--> 754\u001b[0;31m             \u001b[0msubarr\u001b[0m \u001b[0;34m=\u001b[0m \u001b[0mmaybe_cast_to_integer_array\u001b[0m\u001b[0;34m(\u001b[0m\u001b[0marr\u001b[0m\u001b[0;34m,\u001b[0m \u001b[0mdtype\u001b[0m\u001b[0;34m)\u001b[0m\u001b[0;34m\u001b[0m\u001b[0;34m\u001b[0m\u001b[0m\n\u001b[0m\u001b[1;32m    755\u001b[0m         \u001b[0;32melse\u001b[0m\u001b[0;34m:\u001b[0m\u001b[0;34m\u001b[0m\u001b[0;34m\u001b[0m\u001b[0m\n\u001b[1;32m    756\u001b[0m             \u001b[0;31m# 4 tests fail if we move this to a try/except/else; see\u001b[0m\u001b[0;34m\u001b[0m\u001b[0;34m\u001b[0m\u001b[0;34m\u001b[0m\u001b[0m\n",
            "\u001b[0;32m/usr/local/lib/python3.8/dist-packages/pandas/core/dtypes/cast.py\u001b[0m in \u001b[0;36mmaybe_cast_to_integer_array\u001b[0;34m(arr, dtype, copy)\u001b[0m\n\u001b[1;32m   2038\u001b[0m     \u001b[0;32mtry\u001b[0m\u001b[0;34m:\u001b[0m\u001b[0;34m\u001b[0m\u001b[0;34m\u001b[0m\u001b[0m\n\u001b[1;32m   2039\u001b[0m         \u001b[0;32mif\u001b[0m \u001b[0;32mnot\u001b[0m \u001b[0misinstance\u001b[0m\u001b[0;34m(\u001b[0m\u001b[0marr\u001b[0m\u001b[0;34m,\u001b[0m \u001b[0mnp\u001b[0m\u001b[0;34m.\u001b[0m\u001b[0mndarray\u001b[0m\u001b[0;34m)\u001b[0m\u001b[0;34m:\u001b[0m\u001b[0;34m\u001b[0m\u001b[0;34m\u001b[0m\u001b[0m\n\u001b[0;32m-> 2040\u001b[0;31m             \u001b[0mcasted\u001b[0m \u001b[0;34m=\u001b[0m \u001b[0mnp\u001b[0m\u001b[0;34m.\u001b[0m\u001b[0marray\u001b[0m\u001b[0;34m(\u001b[0m\u001b[0marr\u001b[0m\u001b[0;34m,\u001b[0m \u001b[0mdtype\u001b[0m\u001b[0;34m=\u001b[0m\u001b[0mdtype\u001b[0m\u001b[0;34m,\u001b[0m \u001b[0mcopy\u001b[0m\u001b[0;34m=\u001b[0m\u001b[0mcopy\u001b[0m\u001b[0;34m)\u001b[0m\u001b[0;34m\u001b[0m\u001b[0;34m\u001b[0m\u001b[0m\n\u001b[0m\u001b[1;32m   2041\u001b[0m         \u001b[0;32melse\u001b[0m\u001b[0;34m:\u001b[0m\u001b[0;34m\u001b[0m\u001b[0;34m\u001b[0m\u001b[0m\n\u001b[1;32m   2042\u001b[0m             \u001b[0mcasted\u001b[0m \u001b[0;34m=\u001b[0m \u001b[0marr\u001b[0m\u001b[0;34m.\u001b[0m\u001b[0mastype\u001b[0m\u001b[0;34m(\u001b[0m\u001b[0mdtype\u001b[0m\u001b[0;34m,\u001b[0m \u001b[0mcopy\u001b[0m\u001b[0;34m=\u001b[0m\u001b[0mcopy\u001b[0m\u001b[0;34m)\u001b[0m\u001b[0;34m\u001b[0m\u001b[0;34m\u001b[0m\u001b[0m\n",
            "\u001b[0;31mTypeError\u001b[0m: int() argument must be a string, a bytes-like object or a number, not 'NoneType'"
          ]
        }
      ]
    },
    {
      "cell_type": "code",
      "source": [
        "nan_series2 = pd.Series([2, None], index = ['Num1', 'Num2'], dtype = 'Int64')\n",
        "nan_series3 = pd.Series([3, None], index = ['Num1', 'Num2'])"
      ],
      "metadata": {
        "id": "UglUIG0-bJ7t"
      },
      "execution_count": 11,
      "outputs": []
    },
    {
      "cell_type": "code",
      "source": [
        "nan_series2.count()"
      ],
      "metadata": {
        "colab": {
          "base_uri": "https://localhost:8080/"
        },
        "id": "f_mnqhxYbNAa",
        "outputId": "f0936710-30de-4b3c-d2d9-00b4560907f6"
      },
      "execution_count": 12,
      "outputs": [
        {
          "output_type": "execute_result",
          "data": {
            "text/plain": [
              "1"
            ]
          },
          "metadata": {},
          "execution_count": 12
        }
      ]
    },
    {
      "cell_type": "code",
      "source": [
        "nan_series3.count()"
      ],
      "metadata": {
        "colab": {
          "base_uri": "https://localhost:8080/"
        },
        "id": "g19GMU-EbQrm",
        "outputId": "d707f1c5-9e73-496d-9319-5c6b6eae332d"
      },
      "execution_count": 13,
      "outputs": [
        {
          "output_type": "execute_result",
          "data": {
            "text/plain": [
              "1"
            ]
          },
          "metadata": {},
          "execution_count": 13
        }
      ]
    },
    {
      "cell_type": "code",
      "source": [
        "nan_series2.size"
      ],
      "metadata": {
        "colab": {
          "base_uri": "https://localhost:8080/"
        },
        "id": "v-asNcDhbSHt",
        "outputId": "84f94dc6-efde-47b6-fab7-eeec194af92c"
      },
      "execution_count": 16,
      "outputs": [
        {
          "output_type": "execute_result",
          "data": {
            "text/plain": [
              "2"
            ]
          },
          "metadata": {},
          "execution_count": 16
        }
      ]
    },
    {
      "cell_type": "code",
      "source": [
        "nan_series3.size"
      ],
      "metadata": {
        "colab": {
          "base_uri": "https://localhost:8080/"
        },
        "id": "5ew-HYR4bT4Z",
        "outputId": "549e043b-773c-45b8-e041-6b936a0e9571"
      },
      "execution_count": 15,
      "outputs": [
        {
          "output_type": "execute_result",
          "data": {
            "text/plain": [
              "2"
            ]
          },
          "metadata": {},
          "execution_count": 15
        }
      ]
    },
    {
      "cell_type": "code",
      "source": [
        "#Boolean Array \n",
        "\n",
        "dreamcatcher_members_ages = pd.Series([29, 29, 28, 27, 26, 26, 23], index = ['Jiu', 'Sua', 'Siyeon', 'Handong', 'Yoohyeon', 'Dami', 'Gaheyon'])\n",
        "\n",
        "age_mask = dreamcatcher_members_ages > dreamcatcher_members_ages.median()\n",
        "\n",
        "unnie_line = dreamcatcher_members_ages[age_mask]\n",
        "unnie_line"
      ],
      "metadata": {
        "colab": {
          "base_uri": "https://localhost:8080/"
        },
        "id": "XHJcYPnzbVwY",
        "outputId": "d286b3ab-fc4a-401f-ac42-f606fd6f8db5"
      },
      "execution_count": 19,
      "outputs": [
        {
          "output_type": "execute_result",
          "data": {
            "text/plain": [
              "Jiu       29\n",
              "Sua       29\n",
              "Siyeon    28\n",
              "dtype: int64"
            ]
          },
          "metadata": {},
          "execution_count": 19
        }
      ]
    },
    {
      "cell_type": "markdown",
      "source": [
        "## Categorical Data Types\n"
      ],
      "metadata": {
        "id": "zkbHXnCQcBMs"
      }
    },
    {
      "cell_type": "code",
      "source": [
        "clothing_sizes = pd.Series(['M', 'xl', 'xxl', 'L', 's', 'xs'], dtype = 'category')\n",
        "clothing_sizes"
      ],
      "metadata": {
        "colab": {
          "base_uri": "https://localhost:8080/"
        },
        "id": "jsJJa9SRcQxS",
        "outputId": "507c344a-33d6-4b5b-d3b2-24669a42db73"
      },
      "execution_count": 20,
      "outputs": [
        {
          "output_type": "execute_result",
          "data": {
            "text/plain": [
              "0      M\n",
              "1     xl\n",
              "2    xxl\n",
              "3      L\n",
              "4      s\n",
              "5     xs\n",
              "dtype: category\n",
              "Categories (6, object): ['L', 'M', 's', 'xl', 'xs', 'xxl']"
            ]
          },
          "metadata": {},
          "execution_count": 20
        }
      ]
    },
    {
      "cell_type": "code",
      "source": [
        "#is it ordered? \n",
        "clothing_sizes.cat.ordered"
      ],
      "metadata": {
        "colab": {
          "base_uri": "https://localhost:8080/"
        },
        "id": "rwzCdcLRc44I",
        "outputId": "6ffa7028-ebb7-4709-d75b-e28208cf4af6"
      },
      "execution_count": 24,
      "outputs": [
        {
          "output_type": "execute_result",
          "data": {
            "text/plain": [
              "False"
            ]
          },
          "metadata": {},
          "execution_count": 24
        }
      ]
    },
    {
      "cell_type": "code",
      "source": [
        "#turn all into capital \n",
        "uppercase_clothing_size = clothing_sizes.str.upper()\n",
        "uppercase_clothing_size"
      ],
      "metadata": {
        "colab": {
          "base_uri": "https://localhost:8080/"
        },
        "id": "hN843aWCcfEY",
        "outputId": "0be83a68-609e-4ffa-c6dd-1ab70e245b77"
      },
      "execution_count": 23,
      "outputs": [
        {
          "output_type": "execute_result",
          "data": {
            "text/plain": [
              "0      M\n",
              "1     XL\n",
              "2    XXL\n",
              "3      L\n",
              "4      S\n",
              "5     XS\n",
              "dtype: object"
            ]
          },
          "metadata": {},
          "execution_count": 23
        }
      ]
    },
    {
      "cell_type": "code",
      "source": [
        "#define a new ordered type \n",
        "\n",
        "size_type_order = pd.api.types.CategoricalDtype(categories = ['XS', 'S', 'M', 'L', 'XL', 'XXL'], ordered = True)"
      ],
      "metadata": {
        "id": "nBHxwNgCcokb"
      },
      "execution_count": 25,
      "outputs": []
    },
    {
      "cell_type": "code",
      "source": [
        "ordered_clothing_size = uppercase_clothing_size.astype(size_type_order)"
      ],
      "metadata": {
        "id": "Arze6pXbdLoL"
      },
      "execution_count": 26,
      "outputs": []
    },
    {
      "cell_type": "code",
      "source": [
        "ordered_clothing_size.cat.ordered"
      ],
      "metadata": {
        "colab": {
          "base_uri": "https://localhost:8080/"
        },
        "id": "rz4t6ZnSdRTU",
        "outputId": "e72c2b6b-ecc8-485f-9856-39a9f217cde3"
      },
      "execution_count": 31,
      "outputs": [
        {
          "output_type": "execute_result",
          "data": {
            "text/plain": [
              "True"
            ]
          },
          "metadata": {},
          "execution_count": 31
        }
      ]
    },
    {
      "cell_type": "code",
      "source": [
        "ordered_clothing_size"
      ],
      "metadata": {
        "colab": {
          "base_uri": "https://localhost:8080/"
        },
        "id": "Duxqb5IYdT8i",
        "outputId": "5a4d918f-b8ba-43bd-f7aa-46f61a8edfad"
      },
      "execution_count": 32,
      "outputs": [
        {
          "output_type": "execute_result",
          "data": {
            "text/plain": [
              "0      M\n",
              "1     XL\n",
              "2    XXL\n",
              "3      L\n",
              "4      S\n",
              "5     XS\n",
              "dtype: category\n",
              "Categories (6, object): ['XS' < 'S' < 'M' < 'L' < 'XL' < 'XXL']"
            ]
          },
          "metadata": {},
          "execution_count": 32
        }
      ]
    },
    {
      "cell_type": "code",
      "source": [
        "#another way to do this: \n",
        "\n",
        "second_ordered_clothing_size = (clothing_sizes.str.upper()).astype('category').cat.reorder_categories(['XS','S', 'M', 'L', 'XL', 'XXL'], ordered = True)\n",
        "second_ordered_clothing_size"
      ],
      "metadata": {
        "colab": {
          "base_uri": "https://localhost:8080/"
        },
        "id": "TkreA_Dzdnzx",
        "outputId": "77e9be89-a038-4ffa-c3b4-4d7f4e8a4526"
      },
      "execution_count": 40,
      "outputs": [
        {
          "output_type": "execute_result",
          "data": {
            "text/plain": [
              "0      M\n",
              "1     XL\n",
              "2    XXL\n",
              "3      L\n",
              "4      S\n",
              "5     XS\n",
              "dtype: category\n",
              "Categories (6, object): ['XS' < 'S' < 'M' < 'L' < 'XL' < 'XXL']"
            ]
          },
          "metadata": {},
          "execution_count": 40
        }
      ]
    },
    {
      "cell_type": "code",
      "source": [
        "#how many attributes does a python objects have? \n",
        "import datetime \n",
        "dt = datetime.datetime(2023, 1, 1)\n",
        "st = 'Hello'\n",
        "\n",
        "print('Pandas Series has ', len(dir(pd.Series)))\n",
        "print('Date time object has ', len(dir(dt)))\n",
        "print('String has ', len(dir(st)))"
      ],
      "metadata": {
        "colab": {
          "base_uri": "https://localhost:8080/"
        },
        "id": "aAO7FHGqd46U",
        "outputId": "808311e1-d71b-4e4e-f876-c4e9dda8d7ba"
      },
      "execution_count": 46,
      "outputs": [
        {
          "output_type": "stream",
          "name": "stdout",
          "text": [
            "Pandas Series has  421\n",
            "Date time object has  67\n",
            "String has  78\n"
          ]
        }
      ]
    },
    {
      "cell_type": "markdown",
      "source": [
        "# Chapter 6 - Operators and Dunder Methods "
      ],
      "metadata": {
        "id": "UAusfrmWisjp"
      }
    },
    {
      "cell_type": "code",
      "source": [
        "sum1 = 1 + 2 \n",
        "sum2 = (1).__add__(2)\n",
        "\n"
      ],
      "metadata": {
        "id": "QodfrNQvjIOn"
      },
      "execution_count": 47,
      "outputs": []
    },
    {
      "cell_type": "code",
      "source": [
        "sum1"
      ],
      "metadata": {
        "colab": {
          "base_uri": "https://localhost:8080/"
        },
        "id": "QSrMdPBgjO9z",
        "outputId": "85811ef4-e7cf-4429-cf08-97d7142b4568"
      },
      "execution_count": 48,
      "outputs": [
        {
          "output_type": "execute_result",
          "data": {
            "text/plain": [
              "3"
            ]
          },
          "metadata": {},
          "execution_count": 48
        }
      ]
    },
    {
      "cell_type": "code",
      "source": [
        "sum2"
      ],
      "metadata": {
        "colab": {
          "base_uri": "https://localhost:8080/"
        },
        "id": "gjKSCFldjPXg",
        "outputId": "9589d011-129e-427c-95d3-a0a701abc5d6"
      },
      "execution_count": 49,
      "outputs": [
        {
          "output_type": "execute_result",
          "data": {
            "text/plain": [
              "3"
            ]
          },
          "metadata": {},
          "execution_count": 49
        }
      ]
    },
    {
      "cell_type": "code",
      "source": [
        "#BROADCASTING\n",
        "\n",
        "working_series = pd.Series([1, 2, 3, 4, 5])\n",
        "working_series_double = working_series * 2\n",
        "\n",
        "working_series_double"
      ],
      "metadata": {
        "colab": {
          "base_uri": "https://localhost:8080/"
        },
        "id": "acY4uMRajP_t",
        "outputId": "8e1e9651-e84a-4e51-fd86-7d5aaee9818c"
      },
      "execution_count": 51,
      "outputs": [
        {
          "output_type": "execute_result",
          "data": {
            "text/plain": [
              "0     2\n",
              "1     4\n",
              "2     6\n",
              "3     8\n",
              "4    10\n",
              "dtype: int64"
            ]
          },
          "metadata": {},
          "execution_count": 51
        }
      ]
    },
    {
      "cell_type": "code",
      "source": [
        "added_5 = working_series.add(5)\n",
        "added_5"
      ],
      "metadata": {
        "colab": {
          "base_uri": "https://localhost:8080/"
        },
        "id": "OBy3p9AKje4i",
        "outputId": "511f9df8-add7-44d2-c40d-e40255de3b66"
      },
      "execution_count": 52,
      "outputs": [
        {
          "output_type": "execute_result",
          "data": {
            "text/plain": [
              "0     6\n",
              "1     7\n",
              "2     8\n",
              "3     9\n",
              "4    10\n",
              "dtype: int64"
            ]
          },
          "metadata": {},
          "execution_count": 52
        }
      ]
    },
    {
      "cell_type": "code",
      "source": [
        "#chaining \n",
        "\n",
        "add_10_then_double = working_series.add(10).mul(2)\n",
        "add_10_then_double"
      ],
      "metadata": {
        "colab": {
          "base_uri": "https://localhost:8080/"
        },
        "id": "rPloXj1BjobL",
        "outputId": "1e94ead9-ca13-4388-bb96-07e3a192b8ee"
      },
      "execution_count": 53,
      "outputs": [
        {
          "output_type": "execute_result",
          "data": {
            "text/plain": [
              "0    22\n",
              "1    24\n",
              "2    26\n",
              "3    28\n",
              "4    30\n",
              "dtype: int64"
            ]
          },
          "metadata": {},
          "execution_count": 53
        }
      ]
    },
    {
      "cell_type": "code",
      "source": [
        "small_ser = pd.Series([10, 20])\n",
        "\n",
        "sub_10 = small_ser.sub(10)\n",
        "div_10 = small_ser.div(10)\n",
        "mod_10 = small_ser.mod(10)\n",
        "pow_2 = small_ser.pow(2)\n",
        "equal_check = small_ser.eq(10)\n",
        "notEqual_check = small_ser.ne(10)\n",
        "greater_check = small_ser.gt(10)\n",
        "lesser_check = small_ser.lt(20)\n",
        "greater_equal_check = small_ser.ge(10)\n",
        "lesser_equal_check = small_ser.le(20)\n"
      ],
      "metadata": {
        "id": "YxFuSTF1j0nj"
      },
      "execution_count": 54,
      "outputs": []
    },
    {
      "cell_type": "code",
      "source": [
        "import numpy as np \n",
        "\n",
        "#some numpy methods for series \n",
        "inverted = np.invert(small_ser)\n",
        "\n",
        "logical_ser1 = pd.Series([True, True, False])\n",
        "logical_ser2 = pd.Series([False, True, False])\n",
        "\n",
        "l_and = np.logical_and(logical_ser1, logical_ser2)\n",
        "l_or = np.logical_or(logical_ser1, logical_ser2)"
      ],
      "metadata": {
        "id": "8TYCuTaikmpo"
      },
      "execution_count": 57,
      "outputs": []
    },
    {
      "cell_type": "code",
      "source": [
        "print('sub 10', sub_10)\n",
        "print('div 10', div_10)\n",
        "print('mod 10', mod_10)\n",
        "print('power 2', pow_2)\n",
        "print('equal to 10', equal_check)\n",
        "print('not equal to 10', notEqual_check)\n",
        "print('greater than 10', greater_check)\n",
        "print('less than 20', lesser_check)\n",
        "print('greater equal to 10', greater_equal_check)\n",
        "print('less than or equal to 20', lesser_equal_check)\n",
        "print('inverse', inverted)\n",
        "print('logical and', l_and)\n",
        "print('logical or', l_or)"
      ],
      "metadata": {
        "colab": {
          "base_uri": "https://localhost:8080/"
        },
        "id": "i8qE3u19ktiH",
        "outputId": "b3e6f218-c57c-4e43-bd94-38753767864d"
      },
      "execution_count": 58,
      "outputs": [
        {
          "output_type": "stream",
          "name": "stdout",
          "text": [
            "sub 10 0     0\n",
            "1    10\n",
            "dtype: int64\n",
            "div 10 0    1.0\n",
            "1    2.0\n",
            "dtype: float64\n",
            "mod 10 0    0\n",
            "1    0\n",
            "dtype: int64\n",
            "power 2 0    100\n",
            "1    400\n",
            "dtype: int64\n",
            "equal to 10 0     True\n",
            "1    False\n",
            "dtype: bool\n",
            "not equal to 10 0    False\n",
            "1     True\n",
            "dtype: bool\n",
            "greater than 10 0    False\n",
            "1     True\n",
            "dtype: bool\n",
            "less than 20 0     True\n",
            "1    False\n",
            "dtype: bool\n",
            "greater equal to 10 0    True\n",
            "1    True\n",
            "dtype: bool\n",
            "less than or equal to 20 0    True\n",
            "1    True\n",
            "dtype: bool\n",
            "inverse 0   -11\n",
            "1   -21\n",
            "dtype: int64\n",
            "logical and 0    False\n",
            "1     True\n",
            "2    False\n",
            "dtype: bool\n",
            "logical or 0     True\n",
            "1     True\n",
            "2    False\n",
            "dtype: bool\n"
          ]
        }
      ]
    },
    {
      "cell_type": "markdown",
      "source": [
        "# Chapter 7 - Aggregate Methods "
      ],
      "metadata": {
        "id": "f923VPgpnAw_"
      }
    },
    {
      "cell_type": "code",
      "source": [
        "#aggregate functions \n",
        "\n",
        "print('Dreamcatcher members average age is ', dreamcatcher_members_ages.mean())\n"
      ],
      "metadata": {
        "colab": {
          "base_uri": "https://localhost:8080/"
        },
        "id": "rQYetJy9oHwt",
        "outputId": "217b4b9a-70ca-4675-f648-bd55bc4c4e3c"
      },
      "execution_count": 59,
      "outputs": [
        {
          "output_type": "stream",
          "name": "stdout",
          "text": [
            "Dreamcatcher members average age is  26.857142857142858\n"
          ]
        }
      ]
    },
    {
      "cell_type": "code",
      "source": [
        "#non-callable aggregates: \n",
        "dreamcatcher_members_ages.is_unique"
      ],
      "metadata": {
        "colab": {
          "base_uri": "https://localhost:8080/"
        },
        "id": "D7UDcbNBvHnh",
        "outputId": "f1f0d3c7-7905-4090-f7bd-e98f93f51706"
      },
      "execution_count": 60,
      "outputs": [
        {
          "output_type": "execute_result",
          "data": {
            "text/plain": [
              "False"
            ]
          },
          "metadata": {},
          "execution_count": 60
        }
      ]
    },
    {
      "cell_type": "code",
      "source": [
        "dreamcatcher_members_ages.is_monotonic_increasing"
      ],
      "metadata": {
        "colab": {
          "base_uri": "https://localhost:8080/"
        },
        "id": "yG17DAfVvQbi",
        "outputId": "bd3fdb1c-9215-45a5-fa5d-3df95cb34360"
      },
      "execution_count": 61,
      "outputs": [
        {
          "output_type": "execute_result",
          "data": {
            "text/plain": [
              "False"
            ]
          },
          "metadata": {},
          "execution_count": 61
        }
      ]
    },
    {
      "cell_type": "code",
      "source": [
        "#quantiles\n",
        "first_qt = dreamcatcher_members_ages.quantile(.1)\n",
        "second_qt = dreamcatcher_members_ages.quantile() #50%\n",
        "third_qt = dreamcatcher_members_ages.quantile(.9)\n",
        "\n",
        "print(first_qt, second_qt, third_qt)"
      ],
      "metadata": {
        "colab": {
          "base_uri": "https://localhost:8080/"
        },
        "id": "eO6BEqHvvTwW",
        "outputId": "1a0d8e14-0cb8-4946-a4ed-f6ee3a60d597"
      },
      "execution_count": 62,
      "outputs": [
        {
          "output_type": "stream",
          "name": "stdout",
          "text": [
            "24.8 27.0 29.0\n"
          ]
        }
      ]
    },
    {
      "cell_type": "code",
      "source": [
        "#count of values that meet some criteria: \n",
        "#count how many are older than 25 \n",
        "\n",
        "older_than_25 = dreamcatcher_members_ages.gt(25).sum()\n",
        "older_than_25"
      ],
      "metadata": {
        "colab": {
          "base_uri": "https://localhost:8080/"
        },
        "id": "FbuhTg7EvlU9",
        "outputId": "ab4991d5-4172-4dca-b712-848af0fdcd87"
      },
      "execution_count": 63,
      "outputs": [
        {
          "output_type": "execute_result",
          "data": {
            "text/plain": [
              "6"
            ]
          },
          "metadata": {},
          "execution_count": 63
        }
      ]
    },
    {
      "cell_type": "code",
      "source": [
        "#calculate percentage of values that meet a criteria \n",
        "#what percentage of the members are over 25 \n",
        "\n",
        "over_25_percentage = dreamcatcher_members_ages.gt(25).mul(100).mean()\n",
        "over_25_percentage"
      ],
      "metadata": {
        "colab": {
          "base_uri": "https://localhost:8080/"
        },
        "id": "soa7BEgav1H7",
        "outputId": "6f63a991-3280-4c8f-d71b-8af575890587"
      },
      "execution_count": 64,
      "outputs": [
        {
          "output_type": "execute_result",
          "data": {
            "text/plain": [
              "85.71428571428571"
            ]
          },
          "metadata": {},
          "execution_count": 64
        }
      ]
    },
    {
      "cell_type": "code",
      "source": [
        "#are they all true? \n",
        "bool_ser = pd.Series([True, True, False])\n",
        "print(bool_ser.all())\n",
        "print(bool_ser.any())"
      ],
      "metadata": {
        "colab": {
          "base_uri": "https://localhost:8080/"
        },
        "id": "DojqwdDGwD7M",
        "outputId": "dfc68846-cfca-4a01-871a-9bd3ba7d6206"
      },
      "execution_count": 70,
      "outputs": [
        {
          "output_type": "stream",
          "name": "stdout",
          "text": [
            "False\n",
            "True\n"
          ]
        }
      ]
    },
    {
      "cell_type": "code",
      "source": [
        "#what's the kurtosis of the dreamcatcher data?\n",
        "kurtosis = dreamcatcher_members_ages.kurt()\n",
        "kurtosis"
      ],
      "metadata": {
        "colab": {
          "base_uri": "https://localhost:8080/"
        },
        "id": "dwiRVYuOxxiR",
        "outputId": "948da13d-7989-45dd-8104-b63145e34a75"
      },
      "execution_count": 72,
      "outputs": [
        {
          "output_type": "execute_result",
          "data": {
            "text/plain": [
              "0.8023540063377093"
            ]
          },
          "metadata": {},
          "execution_count": 72
        }
      ]
    },
    {
      "cell_type": "code",
      "source": [
        "#what's the skewness of the dreamcatcher data?\n",
        "skewness = dreamcatcher_members_ages.skew()\n",
        "skewness"
      ],
      "metadata": {
        "colab": {
          "base_uri": "https://localhost:8080/"
        },
        "id": "J7lXncfaySbH",
        "outputId": "435fb66e-579d-472e-84aa-4dda5fcbec32"
      },
      "execution_count": 73,
      "outputs": [
        {
          "output_type": "execute_result",
          "data": {
            "text/plain": [
              "-0.9231888356911809"
            ]
          },
          "metadata": {},
          "execution_count": 73
        }
      ]
    },
    {
      "cell_type": "code",
      "source": [
        "dreamcatcher_members_ages.agg(['mean', np.var, 'median', max, min, 'std'])"
      ],
      "metadata": {
        "colab": {
          "base_uri": "https://localhost:8080/"
        },
        "id": "ItFSsT6UzL0D",
        "outputId": "e7aab11d-d07b-4d02-df89-90d0bd68573c"
      },
      "execution_count": 75,
      "outputs": [
        {
          "output_type": "execute_result",
          "data": {
            "text/plain": [
              "mean      26.857143\n",
              "var        4.476190\n",
              "median    27.000000\n",
              "max       29.000000\n",
              "min       23.000000\n",
              "std        2.115701\n",
              "dtype: float64"
            ]
          },
          "metadata": {},
          "execution_count": 75
        }
      ]
    },
    {
      "cell_type": "code",
      "source": [],
      "metadata": {
        "id": "pNORGdi9zdDn"
      },
      "execution_count": null,
      "outputs": []
    }
  ]
}