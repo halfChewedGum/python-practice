{
  "nbformat": 4,
  "nbformat_minor": 0,
  "metadata": {
    "colab": {
      "provenance": [],
      "authorship_tag": "ABX9TyPoPgaS9SQ3O5wJRe6AvNsx",
      "include_colab_link": true
    },
    "kernelspec": {
      "name": "python3",
      "display_name": "Python 3"
    },
    "language_info": {
      "name": "python"
    }
  },
  "cells": [
    {
      "cell_type": "markdown",
      "metadata": {
        "id": "view-in-github",
        "colab_type": "text"
      },
      "source": [
        "<a href=\"https://colab.research.google.com/github/halfChewedGum/python-practice/blob/main/testing_independence_03.ipynb\" target=\"_parent\"><img src=\"https://colab.research.google.com/assets/colab-badge.svg\" alt=\"Open In Colab\"/></a>"
      ]
    },
    {
      "cell_type": "markdown",
      "source": [
        "In this notebook, I will test all the factors of interest to see if there is any relationship between the factors and the target variable (using mobile banking) which is statistically significant. \n",
        "\n",
        "Our factors are of two types:\n",
        "- Categorical (Nominal) \n",
        "- Numerical (Continous) \n",
        "\n",
        "For the categorical variables, I will use Chi-Squared test of independence. \n",
        "For the continous variables, I will use Ranksum test. \n"
      ],
      "metadata": {
        "id": "IDIitsFqY4UC"
      }
    },
    {
      "cell_type": "code",
      "execution_count": 1,
      "metadata": {
        "colab": {
          "base_uri": "https://localhost:8080/",
          "height": 73
        },
        "id": "J317dOdyYrhS",
        "outputId": "7a41708a-b7ad-4dc5-fa1f-fe8d5f7edef6"
      },
      "outputs": [
        {
          "output_type": "display_data",
          "data": {
            "text/plain": [
              "<IPython.core.display.HTML object>"
            ],
            "text/html": [
              "\n",
              "     <input type=\"file\" id=\"files-9cc1095e-945d-48af-a001-c38abc50c5fb\" name=\"files[]\" multiple disabled\n",
              "        style=\"border:none\" />\n",
              "     <output id=\"result-9cc1095e-945d-48af-a001-c38abc50c5fb\">\n",
              "      Upload widget is only available when the cell has been executed in the\n",
              "      current browser session. Please rerun this cell to enable.\n",
              "      </output>\n",
              "      <script>// Copyright 2017 Google LLC\n",
              "//\n",
              "// Licensed under the Apache License, Version 2.0 (the \"License\");\n",
              "// you may not use this file except in compliance with the License.\n",
              "// You may obtain a copy of the License at\n",
              "//\n",
              "//      http://www.apache.org/licenses/LICENSE-2.0\n",
              "//\n",
              "// Unless required by applicable law or agreed to in writing, software\n",
              "// distributed under the License is distributed on an \"AS IS\" BASIS,\n",
              "// WITHOUT WARRANTIES OR CONDITIONS OF ANY KIND, either express or implied.\n",
              "// See the License for the specific language governing permissions and\n",
              "// limitations under the License.\n",
              "\n",
              "/**\n",
              " * @fileoverview Helpers for google.colab Python module.\n",
              " */\n",
              "(function(scope) {\n",
              "function span(text, styleAttributes = {}) {\n",
              "  const element = document.createElement('span');\n",
              "  element.textContent = text;\n",
              "  for (const key of Object.keys(styleAttributes)) {\n",
              "    element.style[key] = styleAttributes[key];\n",
              "  }\n",
              "  return element;\n",
              "}\n",
              "\n",
              "// Max number of bytes which will be uploaded at a time.\n",
              "const MAX_PAYLOAD_SIZE = 100 * 1024;\n",
              "\n",
              "function _uploadFiles(inputId, outputId) {\n",
              "  const steps = uploadFilesStep(inputId, outputId);\n",
              "  const outputElement = document.getElementById(outputId);\n",
              "  // Cache steps on the outputElement to make it available for the next call\n",
              "  // to uploadFilesContinue from Python.\n",
              "  outputElement.steps = steps;\n",
              "\n",
              "  return _uploadFilesContinue(outputId);\n",
              "}\n",
              "\n",
              "// This is roughly an async generator (not supported in the browser yet),\n",
              "// where there are multiple asynchronous steps and the Python side is going\n",
              "// to poll for completion of each step.\n",
              "// This uses a Promise to block the python side on completion of each step,\n",
              "// then passes the result of the previous step as the input to the next step.\n",
              "function _uploadFilesContinue(outputId) {\n",
              "  const outputElement = document.getElementById(outputId);\n",
              "  const steps = outputElement.steps;\n",
              "\n",
              "  const next = steps.next(outputElement.lastPromiseValue);\n",
              "  return Promise.resolve(next.value.promise).then((value) => {\n",
              "    // Cache the last promise value to make it available to the next\n",
              "    // step of the generator.\n",
              "    outputElement.lastPromiseValue = value;\n",
              "    return next.value.response;\n",
              "  });\n",
              "}\n",
              "\n",
              "/**\n",
              " * Generator function which is called between each async step of the upload\n",
              " * process.\n",
              " * @param {string} inputId Element ID of the input file picker element.\n",
              " * @param {string} outputId Element ID of the output display.\n",
              " * @return {!Iterable<!Object>} Iterable of next steps.\n",
              " */\n",
              "function* uploadFilesStep(inputId, outputId) {\n",
              "  const inputElement = document.getElementById(inputId);\n",
              "  inputElement.disabled = false;\n",
              "\n",
              "  const outputElement = document.getElementById(outputId);\n",
              "  outputElement.innerHTML = '';\n",
              "\n",
              "  const pickedPromise = new Promise((resolve) => {\n",
              "    inputElement.addEventListener('change', (e) => {\n",
              "      resolve(e.target.files);\n",
              "    });\n",
              "  });\n",
              "\n",
              "  const cancel = document.createElement('button');\n",
              "  inputElement.parentElement.appendChild(cancel);\n",
              "  cancel.textContent = 'Cancel upload';\n",
              "  const cancelPromise = new Promise((resolve) => {\n",
              "    cancel.onclick = () => {\n",
              "      resolve(null);\n",
              "    };\n",
              "  });\n",
              "\n",
              "  // Wait for the user to pick the files.\n",
              "  const files = yield {\n",
              "    promise: Promise.race([pickedPromise, cancelPromise]),\n",
              "    response: {\n",
              "      action: 'starting',\n",
              "    }\n",
              "  };\n",
              "\n",
              "  cancel.remove();\n",
              "\n",
              "  // Disable the input element since further picks are not allowed.\n",
              "  inputElement.disabled = true;\n",
              "\n",
              "  if (!files) {\n",
              "    return {\n",
              "      response: {\n",
              "        action: 'complete',\n",
              "      }\n",
              "    };\n",
              "  }\n",
              "\n",
              "  for (const file of files) {\n",
              "    const li = document.createElement('li');\n",
              "    li.append(span(file.name, {fontWeight: 'bold'}));\n",
              "    li.append(span(\n",
              "        `(${file.type || 'n/a'}) - ${file.size} bytes, ` +\n",
              "        `last modified: ${\n",
              "            file.lastModifiedDate ? file.lastModifiedDate.toLocaleDateString() :\n",
              "                                    'n/a'} - `));\n",
              "    const percent = span('0% done');\n",
              "    li.appendChild(percent);\n",
              "\n",
              "    outputElement.appendChild(li);\n",
              "\n",
              "    const fileDataPromise = new Promise((resolve) => {\n",
              "      const reader = new FileReader();\n",
              "      reader.onload = (e) => {\n",
              "        resolve(e.target.result);\n",
              "      };\n",
              "      reader.readAsArrayBuffer(file);\n",
              "    });\n",
              "    // Wait for the data to be ready.\n",
              "    let fileData = yield {\n",
              "      promise: fileDataPromise,\n",
              "      response: {\n",
              "        action: 'continue',\n",
              "      }\n",
              "    };\n",
              "\n",
              "    // Use a chunked sending to avoid message size limits. See b/62115660.\n",
              "    let position = 0;\n",
              "    do {\n",
              "      const length = Math.min(fileData.byteLength - position, MAX_PAYLOAD_SIZE);\n",
              "      const chunk = new Uint8Array(fileData, position, length);\n",
              "      position += length;\n",
              "\n",
              "      const base64 = btoa(String.fromCharCode.apply(null, chunk));\n",
              "      yield {\n",
              "        response: {\n",
              "          action: 'append',\n",
              "          file: file.name,\n",
              "          data: base64,\n",
              "        },\n",
              "      };\n",
              "\n",
              "      let percentDone = fileData.byteLength === 0 ?\n",
              "          100 :\n",
              "          Math.round((position / fileData.byteLength) * 100);\n",
              "      percent.textContent = `${percentDone}% done`;\n",
              "\n",
              "    } while (position < fileData.byteLength);\n",
              "  }\n",
              "\n",
              "  // All done.\n",
              "  yield {\n",
              "    response: {\n",
              "      action: 'complete',\n",
              "    }\n",
              "  };\n",
              "}\n",
              "\n",
              "scope.google = scope.google || {};\n",
              "scope.google.colab = scope.google.colab || {};\n",
              "scope.google.colab._files = {\n",
              "  _uploadFiles,\n",
              "  _uploadFilesContinue,\n",
              "};\n",
              "})(self);\n",
              "</script> "
            ]
          },
          "metadata": {}
        },
        {
          "output_type": "stream",
          "name": "stdout",
          "text": [
            "Saving data_dec_00.csv to data_dec_00.csv\n"
          ]
        }
      ],
      "source": [
        "#read data \n",
        "\n",
        "import pandas as pd \n",
        "import numpy as np \n",
        "\n",
        "from google.colab import files\n",
        "uploaded = files.upload()"
      ]
    },
    {
      "cell_type": "code",
      "source": [
        "import io\n",
        "df = pd.read_csv(io.BytesIO(uploaded['data_dec_00.csv']))"
      ],
      "metadata": {
        "id": "W5OQBB14Y-C6"
      },
      "execution_count": 2,
      "outputs": []
    },
    {
      "cell_type": "code",
      "source": [
        "df.head()"
      ],
      "metadata": {
        "colab": {
          "base_uri": "https://localhost:8080/",
          "height": 299
        },
        "id": "DicEgyJYZDe8",
        "outputId": "0afe10bd-95a3-4ba0-9623-3c07ee19f986"
      },
      "execution_count": 3,
      "outputs": [
        {
          "output_type": "execute_result",
          "data": {
            "text/plain": [
              "       ID        Province  Aboriginal  Education  House_size  Gender  Age_gp  \\\n",
              "0  100000       \"Alberta\"           0          2           1       2       3   \n",
              "1  100001  \"Saskatchewan\"           0          1           1       1       5   \n",
              "2  100002        \"Quebec\"           0          3           1       1       5   \n",
              "3  100003       \"Ontario\"           0          2           2       2       4   \n",
              "4  100004        \"Quebec\"           0          1           4       1       1   \n",
              "\n",
              "   House_type  Lang  Employment  ...  Average_spending_online  \\\n",
              "0           3     1           1  ...                     2040   \n",
              "1           3     1           1  ...                     2223   \n",
              "2           3     3           1  ...                     2220   \n",
              "3           2     1           1  ...                     1400   \n",
              "4           1     2           0  ...                        0   \n",
              "\n",
              "   Internet_income  Non_onlineShopper  OnlineShopper  Security_incident  \\\n",
              "0                0                  0              1                  0   \n",
              "1                0                  0              0                  0   \n",
              "2                0                  0              1                  1   \n",
              "3                0                  0              1                  1   \n",
              "4                0                  0              1                  1   \n",
              "\n",
              "   vid_stream_user  gov_service_user  social_media_user  casual_sns_user  \\\n",
              "0                1                 1                  1                1   \n",
              "1                0                 0                  0                0   \n",
              "2                0                 1                  1                1   \n",
              "3                1                 1                  1                1   \n",
              "4                1                 0                  1                1   \n",
              "\n",
              "   smartphone_user  \n",
              "0                1  \n",
              "1                0  \n",
              "2                1  \n",
              "3                1  \n",
              "4                1  \n",
              "\n",
              "[5 rows x 184 columns]"
            ],
            "text/html": [
              "\n",
              "  <div id=\"df-935b331f-d493-443d-8760-7298142164c7\">\n",
              "    <div class=\"colab-df-container\">\n",
              "      <div>\n",
              "<style scoped>\n",
              "    .dataframe tbody tr th:only-of-type {\n",
              "        vertical-align: middle;\n",
              "    }\n",
              "\n",
              "    .dataframe tbody tr th {\n",
              "        vertical-align: top;\n",
              "    }\n",
              "\n",
              "    .dataframe thead th {\n",
              "        text-align: right;\n",
              "    }\n",
              "</style>\n",
              "<table border=\"1\" class=\"dataframe\">\n",
              "  <thead>\n",
              "    <tr style=\"text-align: right;\">\n",
              "      <th></th>\n",
              "      <th>ID</th>\n",
              "      <th>Province</th>\n",
              "      <th>Aboriginal</th>\n",
              "      <th>Education</th>\n",
              "      <th>House_size</th>\n",
              "      <th>Gender</th>\n",
              "      <th>Age_gp</th>\n",
              "      <th>House_type</th>\n",
              "      <th>Lang</th>\n",
              "      <th>Employment</th>\n",
              "      <th>...</th>\n",
              "      <th>Average_spending_online</th>\n",
              "      <th>Internet_income</th>\n",
              "      <th>Non_onlineShopper</th>\n",
              "      <th>OnlineShopper</th>\n",
              "      <th>Security_incident</th>\n",
              "      <th>vid_stream_user</th>\n",
              "      <th>gov_service_user</th>\n",
              "      <th>social_media_user</th>\n",
              "      <th>casual_sns_user</th>\n",
              "      <th>smartphone_user</th>\n",
              "    </tr>\n",
              "  </thead>\n",
              "  <tbody>\n",
              "    <tr>\n",
              "      <th>0</th>\n",
              "      <td>100000</td>\n",
              "      <td>\"Alberta\"</td>\n",
              "      <td>0</td>\n",
              "      <td>2</td>\n",
              "      <td>1</td>\n",
              "      <td>2</td>\n",
              "      <td>3</td>\n",
              "      <td>3</td>\n",
              "      <td>1</td>\n",
              "      <td>1</td>\n",
              "      <td>...</td>\n",
              "      <td>2040</td>\n",
              "      <td>0</td>\n",
              "      <td>0</td>\n",
              "      <td>1</td>\n",
              "      <td>0</td>\n",
              "      <td>1</td>\n",
              "      <td>1</td>\n",
              "      <td>1</td>\n",
              "      <td>1</td>\n",
              "      <td>1</td>\n",
              "    </tr>\n",
              "    <tr>\n",
              "      <th>1</th>\n",
              "      <td>100001</td>\n",
              "      <td>\"Saskatchewan\"</td>\n",
              "      <td>0</td>\n",
              "      <td>1</td>\n",
              "      <td>1</td>\n",
              "      <td>1</td>\n",
              "      <td>5</td>\n",
              "      <td>3</td>\n",
              "      <td>1</td>\n",
              "      <td>1</td>\n",
              "      <td>...</td>\n",
              "      <td>2223</td>\n",
              "      <td>0</td>\n",
              "      <td>0</td>\n",
              "      <td>0</td>\n",
              "      <td>0</td>\n",
              "      <td>0</td>\n",
              "      <td>0</td>\n",
              "      <td>0</td>\n",
              "      <td>0</td>\n",
              "      <td>0</td>\n",
              "    </tr>\n",
              "    <tr>\n",
              "      <th>2</th>\n",
              "      <td>100002</td>\n",
              "      <td>\"Quebec\"</td>\n",
              "      <td>0</td>\n",
              "      <td>3</td>\n",
              "      <td>1</td>\n",
              "      <td>1</td>\n",
              "      <td>5</td>\n",
              "      <td>3</td>\n",
              "      <td>3</td>\n",
              "      <td>1</td>\n",
              "      <td>...</td>\n",
              "      <td>2220</td>\n",
              "      <td>0</td>\n",
              "      <td>0</td>\n",
              "      <td>1</td>\n",
              "      <td>1</td>\n",
              "      <td>0</td>\n",
              "      <td>1</td>\n",
              "      <td>1</td>\n",
              "      <td>1</td>\n",
              "      <td>1</td>\n",
              "    </tr>\n",
              "    <tr>\n",
              "      <th>3</th>\n",
              "      <td>100003</td>\n",
              "      <td>\"Ontario\"</td>\n",
              "      <td>0</td>\n",
              "      <td>2</td>\n",
              "      <td>2</td>\n",
              "      <td>2</td>\n",
              "      <td>4</td>\n",
              "      <td>2</td>\n",
              "      <td>1</td>\n",
              "      <td>1</td>\n",
              "      <td>...</td>\n",
              "      <td>1400</td>\n",
              "      <td>0</td>\n",
              "      <td>0</td>\n",
              "      <td>1</td>\n",
              "      <td>1</td>\n",
              "      <td>1</td>\n",
              "      <td>1</td>\n",
              "      <td>1</td>\n",
              "      <td>1</td>\n",
              "      <td>1</td>\n",
              "    </tr>\n",
              "    <tr>\n",
              "      <th>4</th>\n",
              "      <td>100004</td>\n",
              "      <td>\"Quebec\"</td>\n",
              "      <td>0</td>\n",
              "      <td>1</td>\n",
              "      <td>4</td>\n",
              "      <td>1</td>\n",
              "      <td>1</td>\n",
              "      <td>1</td>\n",
              "      <td>2</td>\n",
              "      <td>0</td>\n",
              "      <td>...</td>\n",
              "      <td>0</td>\n",
              "      <td>0</td>\n",
              "      <td>0</td>\n",
              "      <td>1</td>\n",
              "      <td>1</td>\n",
              "      <td>1</td>\n",
              "      <td>0</td>\n",
              "      <td>1</td>\n",
              "      <td>1</td>\n",
              "      <td>1</td>\n",
              "    </tr>\n",
              "  </tbody>\n",
              "</table>\n",
              "<p>5 rows × 184 columns</p>\n",
              "</div>\n",
              "      <button class=\"colab-df-convert\" onclick=\"convertToInteractive('df-935b331f-d493-443d-8760-7298142164c7')\"\n",
              "              title=\"Convert this dataframe to an interactive table.\"\n",
              "              style=\"display:none;\">\n",
              "        \n",
              "  <svg xmlns=\"http://www.w3.org/2000/svg\" height=\"24px\"viewBox=\"0 0 24 24\"\n",
              "       width=\"24px\">\n",
              "    <path d=\"M0 0h24v24H0V0z\" fill=\"none\"/>\n",
              "    <path d=\"M18.56 5.44l.94 2.06.94-2.06 2.06-.94-2.06-.94-.94-2.06-.94 2.06-2.06.94zm-11 1L8.5 8.5l.94-2.06 2.06-.94-2.06-.94L8.5 2.5l-.94 2.06-2.06.94zm10 10l.94 2.06.94-2.06 2.06-.94-2.06-.94-.94-2.06-.94 2.06-2.06.94z\"/><path d=\"M17.41 7.96l-1.37-1.37c-.4-.4-.92-.59-1.43-.59-.52 0-1.04.2-1.43.59L10.3 9.45l-7.72 7.72c-.78.78-.78 2.05 0 2.83L4 21.41c.39.39.9.59 1.41.59.51 0 1.02-.2 1.41-.59l7.78-7.78 2.81-2.81c.8-.78.8-2.07 0-2.86zM5.41 20L4 18.59l7.72-7.72 1.47 1.35L5.41 20z\"/>\n",
              "  </svg>\n",
              "      </button>\n",
              "      \n",
              "  <style>\n",
              "    .colab-df-container {\n",
              "      display:flex;\n",
              "      flex-wrap:wrap;\n",
              "      gap: 12px;\n",
              "    }\n",
              "\n",
              "    .colab-df-convert {\n",
              "      background-color: #E8F0FE;\n",
              "      border: none;\n",
              "      border-radius: 50%;\n",
              "      cursor: pointer;\n",
              "      display: none;\n",
              "      fill: #1967D2;\n",
              "      height: 32px;\n",
              "      padding: 0 0 0 0;\n",
              "      width: 32px;\n",
              "    }\n",
              "\n",
              "    .colab-df-convert:hover {\n",
              "      background-color: #E2EBFA;\n",
              "      box-shadow: 0px 1px 2px rgba(60, 64, 67, 0.3), 0px 1px 3px 1px rgba(60, 64, 67, 0.15);\n",
              "      fill: #174EA6;\n",
              "    }\n",
              "\n",
              "    [theme=dark] .colab-df-convert {\n",
              "      background-color: #3B4455;\n",
              "      fill: #D2E3FC;\n",
              "    }\n",
              "\n",
              "    [theme=dark] .colab-df-convert:hover {\n",
              "      background-color: #434B5C;\n",
              "      box-shadow: 0px 1px 3px 1px rgba(0, 0, 0, 0.15);\n",
              "      filter: drop-shadow(0px 1px 2px rgba(0, 0, 0, 0.3));\n",
              "      fill: #FFFFFF;\n",
              "    }\n",
              "  </style>\n",
              "\n",
              "      <script>\n",
              "        const buttonEl =\n",
              "          document.querySelector('#df-935b331f-d493-443d-8760-7298142164c7 button.colab-df-convert');\n",
              "        buttonEl.style.display =\n",
              "          google.colab.kernel.accessAllowed ? 'block' : 'none';\n",
              "\n",
              "        async function convertToInteractive(key) {\n",
              "          const element = document.querySelector('#df-935b331f-d493-443d-8760-7298142164c7');\n",
              "          const dataTable =\n",
              "            await google.colab.kernel.invokeFunction('convertToInteractive',\n",
              "                                                     [key], {});\n",
              "          if (!dataTable) return;\n",
              "\n",
              "          const docLinkHtml = 'Like what you see? Visit the ' +\n",
              "            '<a target=\"_blank\" href=https://colab.research.google.com/notebooks/data_table.ipynb>data table notebook</a>'\n",
              "            + ' to learn more about interactive tables.';\n",
              "          element.innerHTML = '';\n",
              "          dataTable['output_type'] = 'display_data';\n",
              "          await google.colab.output.renderOutput(dataTable, element);\n",
              "          const docLink = document.createElement('div');\n",
              "          docLink.innerHTML = docLinkHtml;\n",
              "          element.appendChild(docLink);\n",
              "        }\n",
              "      </script>\n",
              "    </div>\n",
              "  </div>\n",
              "  "
            ]
          },
          "metadata": {},
          "execution_count": 3
        }
      ]
    },
    {
      "cell_type": "code",
      "source": [
        "#Envirnoment settings \n",
        "pd.set_option('display.max_column', None)\n",
        "pd.set_option('display.max_rows', None)\n",
        "pd.set_option('display.max_seq_items', None)\n",
        "pd.set_option('display.max_colwidth', 500)\n",
        "pd.set_option('expand_frame_repr', True)"
      ],
      "metadata": {
        "id": "x0istR8jZDbQ"
      },
      "execution_count": 4,
      "outputs": []
    },
    {
      "cell_type": "code",
      "source": [
        "df.info(verbose=True, show_counts=True)"
      ],
      "metadata": {
        "colab": {
          "base_uri": "https://localhost:8080/"
        },
        "id": "OalGOMetZDYq",
        "outputId": "61006b04-2557-437c-89cf-d6c0350a5ba0"
      },
      "execution_count": 5,
      "outputs": [
        {
          "output_type": "stream",
          "name": "stdout",
          "text": [
            "<class 'pandas.core.frame.DataFrame'>\n",
            "RangeIndex: 13810 entries, 0 to 13809\n",
            "Data columns (total 184 columns):\n",
            " #    Column                     Non-Null Count  Dtype \n",
            "---   ------                     --------------  ----- \n",
            " 0    ID                         13810 non-null  int64 \n",
            " 1    Province                   13810 non-null  object\n",
            " 2    Aboriginal                 13810 non-null  int64 \n",
            " 3    Education                  13810 non-null  int64 \n",
            " 4    House_size                 13810 non-null  int64 \n",
            " 5    Gender                     13810 non-null  int64 \n",
            " 6    Age_gp                     13810 non-null  int64 \n",
            " 7    House_type                 13810 non-null  int64 \n",
            " 8    Lang                       13810 non-null  int64 \n",
            " 9    Employment                 13810 non-null  int64 \n",
            " 10   Current_student            13810 non-null  int64 \n",
            " 11   immigrant                  13810 non-null  int64 \n",
            " 12   IN_personal_use            13810 non-null  int64 \n",
            " 13   IN_household_yn            13810 non-null  int64 \n",
            " 14   IN_work                    13810 non-null  int64 \n",
            " 15   IN_school                  13810 non-null  int64 \n",
            " 16   IN_library                 13810 non-null  int64 \n",
            " 17   IN_public                  13810 non-null  int64 \n",
            " 18   IN_business                13810 non-null  int64 \n",
            " 19   IN_home                    13810 non-null  int64 \n",
            " 20   IN_otherhome               13810 non-null  int64 \n",
            " 21   hours_online               13810 non-null  int64 \n",
            " 22   DVC_SMPH                   13810 non-null  int64 \n",
            " 23   DVC_lptp                   13810 non-null  int64 \n",
            " 24   DVC_tblt                   13810 non-null  int64 \n",
            " 25   DVC_pc                     13810 non-null  int64 \n",
            " 26   DVC_other                  13810 non-null  int64 \n",
            " 27   COM_email                  13810 non-null  int64 \n",
            " 28   COM_IM                     13810 non-null  int64 \n",
            " 29   COM_SNS                    13810 non-null  int64 \n",
            " 30   COM_vidcall                13810 non-null  int64 \n",
            " 31   COM_dating                 13810 non-null  int64 \n",
            " 32   COM_contentsharing         13810 non-null  int64 \n",
            " 33   COM_blog                   13810 non-null  int64 \n",
            " 34   INFO_news                  13810 non-null  int64 \n",
            " 35   INFO_location              13810 non-null  int64 \n",
            " 36   INFO_research              13810 non-null  int64 \n",
            " 37   ENT_music                  13810 non-null  int64 \n",
            " 38   ENT_podcast                13810 non-null  int64 \n",
            " 39   ENT_stream                 13810 non-null  int64 \n",
            " 40   ENT_vids                   13810 non-null  int64 \n",
            " 41   ENT_sports                 13810 non-null  int64 \n",
            " 42   ENT_TV                     13810 non-null  int64 \n",
            " 43   ENT_book                   13810 non-null  int64 \n",
            " 44   ENT_game                   13810 non-null  int64 \n",
            " 45   ENT_gamble                 13810 non-null  int64 \n",
            " 46   ECOM_newbuy                13810 non-null  int64 \n",
            " 47   ECOM_usedgoods             13810 non-null  int64 \n",
            " 48   ECOM_tradegood             13810 non-null  int64 \n",
            " 49   ECOM_stockfin              13810 non-null  int64 \n",
            " 50   ACT_jobsearch              13810 non-null  int64 \n",
            " 51   ACT_onlineBanking          13810 non-null  int64 \n",
            " 52   ACT_wallet                 13810 non-null  int64 \n",
            " 53   ACT_train                  13810 non-null  int64 \n",
            " 54   ACT_trainformal            13810 non-null  int64 \n",
            " 55   ACT_donate                 13810 non-null  int64 \n",
            " 56   ACT_appointmnet            13810 non-null  int64 \n",
            " 57   ACT_schedule               13810 non-null  int64 \n",
            " 58   VICT_bullying              13810 non-null  int64 \n",
            " 59   VICT_harassement           13810 non-null  int64 \n",
            " 60   VICT_discrimination        13810 non-null  int64 \n",
            " 61   VICT_stalking              13810 non-null  int64 \n",
            " 62   VICT_picmisuse             13810 non-null  int64 \n",
            " 63   VICT_idfraud               13810 non-null  int64 \n",
            " 64   VICT_other                 13810 non-null  int64 \n",
            " 65   VICT_none                  13810 non-null  int64 \n",
            " 66   SM_personal                13810 non-null  int64 \n",
            " 67   SM_USE_frq_allday          13810 non-null  int64 \n",
            " 68   SM_USE_frq_bedtime         13810 non-null  int64 \n",
            " 69   SM_USE_frq_TV              13810 non-null  int64 \n",
            " 70   SM_USE_frq_dinner          13810 non-null  int64 \n",
            " 71   SM_USE_buy                 13810 non-null  int64 \n",
            " 72   SM_USE_sell                13810 non-null  int64 \n",
            " 73   SM_USE_appointment         13810 non-null  int64 \n",
            " 74   SM_USE_stream              13810 non-null  int64 \n",
            " 75   SM_USE_listen              13810 non-null  int64 \n",
            " 76   SM_USE_wallet              13810 non-null  int64 \n",
            " 77   SM_USE_banking             13810 non-null  int64 \n",
            " 78   SM_USE_jobsearch           13810 non-null  int64 \n",
            " 79   SM_USE_search              13810 non-null  int64 \n",
            " 80   SM_USE_fitness             13810 non-null  int64 \n",
            " 81   SNS_accounts               13810 non-null  int64 \n",
            " 82   SNS_reguse                 13810 non-null  int64 \n",
            " 83   VID_streaming_hours        13810 non-null  int64 \n",
            " 84   NEWS_pay                   13810 non-null  int64 \n",
            " 85   NEWS_pay_digprint          13810 non-null  int64 \n",
            " 86   NEWS_pay_occasional        13810 non-null  int64 \n",
            " 87   SEC_userpass               13810 non-null  int64 \n",
            " 88   SEC_secQ                   13810 non-null  int64 \n",
            " 89   SEC_twostep                13810 non-null  int64 \n",
            " 90   SEC_bio                    13810 non-null  int64 \n",
            " 91   SEC_passmanager            13810 non-null  int64 \n",
            " 92   SEC_other                  13810 non-null  int64 \n",
            " 93   SEC_none_available         13810 non-null  int64 \n",
            " 94   SEC_idtheft                13810 non-null  int64 \n",
            " 95   SEC_infoabuse              13810 non-null  int64 \n",
            " 96   SEC_fraudcommunication     13810 non-null  int64 \n",
            " 97   SEC_hack                   13810 non-null  int64 \n",
            " 98   SEC_payfraud               13810 non-null  int64 \n",
            " 99   SEC_ransom                 13810 non-null  int64 \n",
            " 100  SEC_issue_other            13810 non-null  int64 \n",
            " 101  SEC_update                 13810 non-null  int64 \n",
            " 102  SEC_antivirus              13810 non-null  int64 \n",
            " 103  SEC_mobile_update          13810 non-null  int64 \n",
            " 104  SEC_mobile_antivirus       13810 non-null  int64 \n",
            " 105  Skill_free                 13810 non-null  int64 \n",
            " 106  Skill_friends              13810 non-null  int64 \n",
            " 107  Skill_community            13810 non-null  int64 \n",
            " 108  Skill_public               13810 non-null  int64 \n",
            " 109  Skill_paid                 13810 non-null  int64 \n",
            " 110  Skill_employer             13810 non-null  int64 \n",
            " 111  Skill_none                 13810 non-null  int64 \n",
            " 112  ECOM_music                 13810 non-null  int64 \n",
            " 113  ECOM_vid                   13810 non-null  int64 \n",
            " 114  ECOM_ebook                 13810 non-null  int64 \n",
            " 115  ECOM_podcast               13810 non-null  int64 \n",
            " 116  ECOM_news                  13810 non-null  int64 \n",
            " 117  ECOM_giftcard              13810 non-null  int64 \n",
            " 118  ECOM_gambling              13810 non-null  int64 \n",
            " 119  ECOM_gaming                13810 non-null  int64 \n",
            " 120  ECOM_storage               13810 non-null  int64 \n",
            " 121  ECOM_software              13810 non-null  int64 \n",
            " 122  ECOM_other                 13810 non-null  int64 \n",
            " 123  ECOM_none                  13810 non-null  int64 \n",
            " 124  ECOM_music_spend           13810 non-null  int64 \n",
            " 125  ECOM_video_spend           13810 non-null  int64 \n",
            " 126  ECOM_ebook_spend           13810 non-null  int64 \n",
            " 127  ECOM_podcast_spend         13810 non-null  int64 \n",
            " 128  ECOM_news_spend            13810 non-null  int64 \n",
            " 129  ECOM_giftcard_spend        13810 non-null  int64 \n",
            " 130  ECOM_gambling_spend        13810 non-null  int64 \n",
            " 131  ECOM_gaming_spend          13810 non-null  int64 \n",
            " 132  ECOM_storage_spend         13810 non-null  int64 \n",
            " 133  ECOM_software_spend        13810 non-null  int64 \n",
            " 134  ECOM_other_spend           13810 non-null  int64 \n",
            " 135  ECOM_totalspend            13810 non-null  int64 \n",
            " 136  PURCH_clothing             13810 non-null  int64 \n",
            " 137  PURCH_books                13810 non-null  int64 \n",
            " 138  PURCH_gamestoys            13810 non-null  int64 \n",
            " 139  PURCH_electronics          13810 non-null  int64 \n",
            " 140  PURCH_houseware            13810 non-null  int64 \n",
            " 141  PURCH_sports               13810 non-null  int64 \n",
            " 142  PURCH_homeimprov           13810 non-null  int64 \n",
            " 143  PURCH_automotive           13810 non-null  int64 \n",
            " 144  PURCH_giftcard             13810 non-null  int64 \n",
            " 145  PURCH_food                 13810 non-null  int64 \n",
            " 146  PURCH_prescription         13810 non-null  int64 \n",
            " 147  PURCH_beauty               13810 non-null  int64 \n",
            " 148  PURCH_cannabis             13810 non-null  int64 \n",
            " 149  PURCH_other                13810 non-null  int64 \n",
            " 150  PURCH_none                 13810 non-null  int64 \n",
            " 151  RIDE_spend                 13810 non-null  int64 \n",
            " 152  SRVC_food                  13810 non-null  int64 \n",
            " 153  SRVC_travel                13810 non-null  int64 \n",
            " 154  SRVC_ticket                13810 non-null  int64 \n",
            " 155  SRVC_fitness               13810 non-null  int64 \n",
            " 156  SRVC_childcare             13810 non-null  int64 \n",
            " 157  SRVC_photo                 13810 non-null  int64 \n",
            " 158  SRVC_other                 13810 non-null  int64 \n",
            " 159  SRVC_total_spend           13810 non-null  int64 \n",
            " 160  PAY_onlineSRVC             13810 non-null  int64 \n",
            " 161  PAY_wallet                 13810 non-null  int64 \n",
            " 162  PAY_credit                 13810 non-null  int64 \n",
            " 163  PAY_debit                  13810 non-null  int64 \n",
            " 164  PAY_etransfer              13810 non-null  int64 \n",
            " 165  PAY_giftcard               13810 non-null  int64 \n",
            " 166  PAY_rewards                13810 non-null  int64 \n",
            " 167  PAY_other                  13810 non-null  int64 \n",
            " 168  REMOTE_work                13810 non-null  int64 \n",
            " 169  ON_income                  13810 non-null  int64 \n",
            " 170  ON_income_main             13810 non-null  int64 \n",
            " 171  ON_income_additional       13810 non-null  int64 \n",
            " 172  ON_income_total            13810 non-null  int64 \n",
            " 173  Household_income_quantile  13810 non-null  int64 \n",
            " 174  Average_spending_online    13810 non-null  int64 \n",
            " 175  Internet_income            13810 non-null  int64 \n",
            " 176  Non_onlineShopper          13810 non-null  int64 \n",
            " 177  OnlineShopper              13810 non-null  int64 \n",
            " 178  Security_incident          13810 non-null  int64 \n",
            " 179  vid_stream_user            13810 non-null  int64 \n",
            " 180  gov_service_user           13810 non-null  int64 \n",
            " 181  social_media_user          13810 non-null  int64 \n",
            " 182  casual_sns_user            13810 non-null  int64 \n",
            " 183  smartphone_user            13810 non-null  int64 \n",
            "dtypes: int64(183), object(1)\n",
            "memory usage: 19.4+ MB\n"
          ]
        }
      ]
    },
    {
      "cell_type": "markdown",
      "source": [
        "It seems that most (except Province) are thought to be integer. This isn't true, so I need to fix this. With the exception of a few truly integer columns, I will cast the others into datatype of \"object\". "
      ],
      "metadata": {
        "id": "I8jHNnGVZcxy"
      }
    },
    {
      "cell_type": "code",
      "source": [
        "#find out which ones are actually categorical \n",
        "\n",
        "df.nunique()"
      ],
      "metadata": {
        "colab": {
          "base_uri": "https://localhost:8080/"
        },
        "id": "YzsZUvOPZDGh",
        "outputId": "85942aec-e901-41a1-f58b-e06439fc266b"
      },
      "execution_count": 6,
      "outputs": [
        {
          "output_type": "execute_result",
          "data": {
            "text/plain": [
              "ID                           13810\n",
              "Province                        10\n",
              "Aboriginal                       3\n",
              "Education                        4\n",
              "House_size                       5\n",
              "Gender                           2\n",
              "Age_gp                           6\n",
              "House_type                       5\n",
              "Lang                             5\n",
              "Employment                       3\n",
              "Current_student                  3\n",
              "immigrant                        3\n",
              "IN_personal_use                  2\n",
              "IN_household_yn                  3\n",
              "IN_work                          3\n",
              "IN_school                        3\n",
              "IN_library                       3\n",
              "IN_public                        3\n",
              "IN_business                      3\n",
              "IN_home                          3\n",
              "IN_otherhome                     3\n",
              "hours_online                     6\n",
              "DVC_SMPH                         3\n",
              "DVC_lptp                         3\n",
              "DVC_tblt                         3\n",
              "DVC_pc                           3\n",
              "DVC_other                        3\n",
              "COM_email                        3\n",
              "COM_IM                           3\n",
              "COM_SNS                          3\n",
              "COM_vidcall                      3\n",
              "COM_dating                       3\n",
              "COM_contentsharing               3\n",
              "COM_blog                         3\n",
              "INFO_news                        3\n",
              "INFO_location                    3\n",
              "INFO_research                    3\n",
              "ENT_music                        3\n",
              "ENT_podcast                      3\n",
              "ENT_stream                       3\n",
              "ENT_vids                         3\n",
              "ENT_sports                       3\n",
              "ENT_TV                           3\n",
              "ENT_book                         3\n",
              "ENT_game                         3\n",
              "ENT_gamble                       3\n",
              "ECOM_newbuy                      3\n",
              "ECOM_usedgoods                   3\n",
              "ECOM_tradegood                   3\n",
              "ECOM_stockfin                    3\n",
              "ACT_jobsearch                    3\n",
              "ACT_onlineBanking                3\n",
              "ACT_wallet                       3\n",
              "ACT_train                        3\n",
              "ACT_trainformal                  3\n",
              "ACT_donate                       3\n",
              "ACT_appointmnet                  3\n",
              "ACT_schedule                     3\n",
              "VICT_bullying                    3\n",
              "VICT_harassement                 3\n",
              "VICT_discrimination              3\n",
              "VICT_stalking                    3\n",
              "VICT_picmisuse                   3\n",
              "VICT_idfraud                     3\n",
              "VICT_other                       3\n",
              "VICT_none                        3\n",
              "SM_personal                      4\n",
              "SM_USE_frq_allday                3\n",
              "SM_USE_frq_bedtime               3\n",
              "SM_USE_frq_TV                    3\n",
              "SM_USE_frq_dinner                3\n",
              "SM_USE_buy                       3\n",
              "SM_USE_sell                      3\n",
              "SM_USE_appointment               3\n",
              "SM_USE_stream                    3\n",
              "SM_USE_listen                    3\n",
              "SM_USE_wallet                    3\n",
              "SM_USE_banking                   3\n",
              "SM_USE_jobsearch                 3\n",
              "SM_USE_search                    3\n",
              "SM_USE_fitness                   3\n",
              "SNS_accounts                     3\n",
              "SNS_reguse                       7\n",
              "VID_streaming_hours              7\n",
              "NEWS_pay                         3\n",
              "NEWS_pay_digprint                3\n",
              "NEWS_pay_occasional              3\n",
              "SEC_userpass                     3\n",
              "SEC_secQ                         3\n",
              "SEC_twostep                      3\n",
              "SEC_bio                          3\n",
              "SEC_passmanager                  3\n",
              "SEC_other                        3\n",
              "SEC_none_available               3\n",
              "SEC_idtheft                      3\n",
              "SEC_infoabuse                    3\n",
              "SEC_fraudcommunication           3\n",
              "SEC_hack                         3\n",
              "SEC_payfraud                     3\n",
              "SEC_ransom                       3\n",
              "SEC_issue_other                  3\n",
              "SEC_update                       3\n",
              "SEC_antivirus                    3\n",
              "SEC_mobile_update                3\n",
              "SEC_mobile_antivirus             3\n",
              "Skill_free                       3\n",
              "Skill_friends                    3\n",
              "Skill_community                  3\n",
              "Skill_public                     3\n",
              "Skill_paid                       3\n",
              "Skill_employer                   3\n",
              "Skill_none                       3\n",
              "ECOM_music                       3\n",
              "ECOM_vid                         3\n",
              "ECOM_ebook                       3\n",
              "ECOM_podcast                     3\n",
              "ECOM_news                        3\n",
              "ECOM_giftcard                    3\n",
              "ECOM_gambling                    3\n",
              "ECOM_gaming                      3\n",
              "ECOM_storage                     3\n",
              "ECOM_software                    3\n",
              "ECOM_other                       3\n",
              "ECOM_none                        3\n",
              "ECOM_music_spend                 3\n",
              "ECOM_video_spend               113\n",
              "ECOM_ebook_spend               146\n",
              "ECOM_podcast_spend              74\n",
              "ECOM_news_spend                 33\n",
              "ECOM_giftcard_spend             92\n",
              "ECOM_gambling_spend             46\n",
              "ECOM_gaming_spend               41\n",
              "ECOM_storage_spend              87\n",
              "ECOM_software_spend             77\n",
              "ECOM_other_spend               122\n",
              "ECOM_totalspend                 96\n",
              "PURCH_clothing                 758\n",
              "PURCH_books                      3\n",
              "PURCH_gamestoys                  3\n",
              "PURCH_electronics                3\n",
              "PURCH_houseware                  3\n",
              "PURCH_sports                     3\n",
              "PURCH_homeimprov                 3\n",
              "PURCH_automotive                 3\n",
              "PURCH_giftcard                   3\n",
              "PURCH_food                       3\n",
              "PURCH_prescription               3\n",
              "PURCH_beauty                     3\n",
              "PURCH_cannabis                   3\n",
              "PURCH_other                      3\n",
              "PURCH_none                       3\n",
              "RIDE_spend                      77\n",
              "SRVC_food                        3\n",
              "SRVC_travel                      3\n",
              "SRVC_ticket                      3\n",
              "SRVC_fitness                     3\n",
              "SRVC_childcare                   3\n",
              "SRVC_photo                       3\n",
              "SRVC_other                       3\n",
              "SRVC_total_spend               214\n",
              "PAY_onlineSRVC                   3\n",
              "PAY_wallet                       3\n",
              "PAY_credit                       3\n",
              "PAY_debit                        3\n",
              "PAY_etransfer                    3\n",
              "PAY_giftcard                     3\n",
              "PAY_rewards                      3\n",
              "PAY_other                        3\n",
              "REMOTE_work                      4\n",
              "ON_income                        3\n",
              "ON_income_main                   3\n",
              "ON_income_additional             3\n",
              "ON_income_total                  5\n",
              "Household_income_quantile        5\n",
              "Average_spending_online       2369\n",
              "Internet_income                  2\n",
              "Non_onlineShopper                1\n",
              "OnlineShopper                    2\n",
              "Security_incident                2\n",
              "vid_stream_user                  2\n",
              "gov_service_user                 2\n",
              "social_media_user                2\n",
              "casual_sns_user                  2\n",
              "smartphone_user                  2\n",
              "dtype: int64"
            ]
          },
          "metadata": {},
          "execution_count": 6
        }
      ]
    },
    {
      "cell_type": "markdown",
      "source": [
        "Based on the above result, if it has more than 10 values it is not a categorical variable. These are: \n",
        "\n",
        "\n",
        "ECOM_video_spend               113\n",
        "ECOM_ebook_spend               146\n",
        "ECOM_podcast_spend              74\n",
        "ECOM_news_spend                 33\n",
        "ECOM_giftcard_spend             92\n",
        "ECOM_gambling_spend             46\n",
        "ECOM_gaming_spend               41\n",
        "ECOM_storage_spend              87\n",
        "ECOM_software_spend             77\n",
        "ECOM_other_spend               122\n",
        "ECOM_totalspend                 96\n",
        "PURCH_clothing                 758\n",
        "RIDE_spend                      77\n",
        "SRVC_total_spend               214\n",
        "Average_spending_online       2369\n"
      ],
      "metadata": {
        "id": "oCGelH9KZL7C"
      }
    },
    {
      "cell_type": "code",
      "source": [
        "#continues variables \n",
        "\n",
        "x_spendOnVid = df['ECOM_video_spend']\n",
        "x_spendEBook = df['ECOM_ebook_spend']\n",
        "x_spendPodcast = df['ECOM_podcast_spend']\n",
        "x_spendNews = df['ECOM_news_spend']\n",
        "x_spendGiftCard = df['ECOM_giftcard_spend']\n",
        "x_spendGamble = df['ECOM_gambling_spend']\n",
        "x_spendGaming = df['ECOM_gaming_spend']\n",
        "x_spendStorage = df['ECOM_storage_spend']\n",
        "x_spendSoftware = df['ECOM_software_spend']\n",
        "x_spendOther = df['ECOM_other_spend']\n",
        "x_totalSpend = df['ECOM_totalspend']\n",
        "x_spendClothes = df['PURCH_clothing']\n",
        "x_spendrideShare = df['RIDE_spend']\n",
        "x_spendService = df['SRVC_total_spend']\n",
        "x_averageSpend = df['Average_spending_online']"
      ],
      "metadata": {
        "id": "k4hanyEUZMVR"
      },
      "execution_count": 7,
      "outputs": []
    },
    {
      "cell_type": "code",
      "source": [
        "#keep a copy of dataframe \n",
        "df_copy01 = df.copy()"
      ],
      "metadata": {
        "id": "h3ecPHCfZQk_"
      },
      "execution_count": 8,
      "outputs": []
    },
    {
      "cell_type": "markdown",
      "source": [
        "Keeping track: copy 1 of the dataframe will have none of the continous variables and ID. "
      ],
      "metadata": {
        "id": "i5mEUf2LZTKC"
      }
    },
    {
      "cell_type": "code",
      "source": [
        "columns_to_drop01 = ['ID','ECOM_video_spend', 'ECOM_ebook_spend','ECOM_podcast_spend', 'ECOM_news_spend','ECOM_giftcard_spend','ECOM_gambling_spend','ECOM_gaming_spend','ECOM_storage_spend','ECOM_software_spend','ECOM_other_spend','ECOM_totalspend','PURCH_clothing','RIDE_spend','SRVC_total_spend','Average_spending_online']\n",
        "\n",
        "df_copy01 = df_copy01.drop(columns = columns_to_drop01)\n",
        "df_copy01.info()"
      ],
      "metadata": {
        "colab": {
          "base_uri": "https://localhost:8080/"
        },
        "id": "F-8N5u6fZQhf",
        "outputId": "30fc7871-8729-49c9-cea3-46336a8d1e54"
      },
      "execution_count": 13,
      "outputs": [
        {
          "output_type": "stream",
          "name": "stdout",
          "text": [
            "<class 'pandas.core.frame.DataFrame'>\n",
            "RangeIndex: 13810 entries, 0 to 13809\n",
            "Columns: 168 entries, Province to smartphone_user\n",
            "dtypes: object(168)\n",
            "memory usage: 17.7+ MB\n"
          ]
        }
      ]
    },
    {
      "cell_type": "code",
      "source": [
        "#convert everything that is left to an object \n",
        "df_copy01 = df_copy01.astype(object)"
      ],
      "metadata": {
        "id": "-k8EAp5XZQaS"
      },
      "execution_count": 14,
      "outputs": []
    },
    {
      "cell_type": "code",
      "source": [
        "df_copy01.info()"
      ],
      "metadata": {
        "colab": {
          "base_uri": "https://localhost:8080/"
        },
        "id": "uc-DTgKNa7KC",
        "outputId": "cd4470c1-83cc-4fcc-dc4b-9546adc35f63"
      },
      "execution_count": 15,
      "outputs": [
        {
          "output_type": "stream",
          "name": "stdout",
          "text": [
            "<class 'pandas.core.frame.DataFrame'>\n",
            "RangeIndex: 13810 entries, 0 to 13809\n",
            "Columns: 168 entries, Province to smartphone_user\n",
            "dtypes: object(168)\n",
            "memory usage: 17.7+ MB\n"
          ]
        }
      ]
    },
    {
      "cell_type": "markdown",
      "source": [
        "df_allObjectVars : dataframe with only categorical variables \n",
        "df_allContinous : dataframe with only continous variables "
      ],
      "metadata": {
        "id": "tdUeRHt_bWhE"
      }
    },
    {
      "cell_type": "code",
      "source": [
        "df_allObjectVars = df_copy01.copy()"
      ],
      "metadata": {
        "id": "eltraoWebSUb"
      },
      "execution_count": 16,
      "outputs": []
    },
    {
      "cell_type": "code",
      "source": [
        "columns_continousForm = ['SM_USE_banking','ECOM_video_spend', 'ECOM_ebook_spend','ECOM_podcast_spend', 'ECOM_news_spend','ECOM_giftcard_spend','ECOM_gambling_spend','ECOM_gaming_spend','ECOM_storage_spend','ECOM_software_spend','ECOM_other_spend','ECOM_totalspend','PURCH_clothing','RIDE_spend','SRVC_total_spend','Average_spending_online']\n",
        "\n",
        "df_allContinous = df.loc[:, df.columns.isin(columns_continousForm)]\n"
      ],
      "metadata": {
        "id": "J5SebXkNa9cT"
      },
      "execution_count": 23,
      "outputs": []
    },
    {
      "cell_type": "code",
      "source": [
        "df_allObjectVars.info()"
      ],
      "metadata": {
        "colab": {
          "base_uri": "https://localhost:8080/"
        },
        "id": "44xEYxHPcDjQ",
        "outputId": "6e8878ab-3b35-40a7-9f04-9a2133461d01"
      },
      "execution_count": 24,
      "outputs": [
        {
          "output_type": "stream",
          "name": "stdout",
          "text": [
            "<class 'pandas.core.frame.DataFrame'>\n",
            "RangeIndex: 13810 entries, 0 to 13809\n",
            "Columns: 168 entries, Province to smartphone_user\n",
            "dtypes: object(168)\n",
            "memory usage: 17.7+ MB\n"
          ]
        }
      ]
    },
    {
      "cell_type": "code",
      "source": [
        "df_allContinous.info()"
      ],
      "metadata": {
        "colab": {
          "base_uri": "https://localhost:8080/"
        },
        "id": "U6PQ6w-ZcE6X",
        "outputId": "14a6d419-0c0c-4668-cde7-357423d74de7"
      },
      "execution_count": 25,
      "outputs": [
        {
          "output_type": "stream",
          "name": "stdout",
          "text": [
            "<class 'pandas.core.frame.DataFrame'>\n",
            "RangeIndex: 13810 entries, 0 to 13809\n",
            "Data columns (total 16 columns):\n",
            " #   Column                   Non-Null Count  Dtype\n",
            "---  ------                   --------------  -----\n",
            " 0   SM_USE_banking           13810 non-null  int64\n",
            " 1   ECOM_video_spend         13810 non-null  int64\n",
            " 2   ECOM_ebook_spend         13810 non-null  int64\n",
            " 3   ECOM_podcast_spend       13810 non-null  int64\n",
            " 4   ECOM_news_spend          13810 non-null  int64\n",
            " 5   ECOM_giftcard_spend      13810 non-null  int64\n",
            " 6   ECOM_gambling_spend      13810 non-null  int64\n",
            " 7   ECOM_gaming_spend        13810 non-null  int64\n",
            " 8   ECOM_storage_spend       13810 non-null  int64\n",
            " 9   ECOM_software_spend      13810 non-null  int64\n",
            " 10  ECOM_other_spend         13810 non-null  int64\n",
            " 11  ECOM_totalspend          13810 non-null  int64\n",
            " 12  PURCH_clothing           13810 non-null  int64\n",
            " 13  RIDE_spend               13810 non-null  int64\n",
            " 14  SRVC_total_spend         13810 non-null  int64\n",
            " 15  Average_spending_online  13810 non-null  int64\n",
            "dtypes: int64(16)\n",
            "memory usage: 1.7 MB\n"
          ]
        }
      ]
    },
    {
      "cell_type": "markdown",
      "source": [
        "For Continous Variables, Do RankSum test "
      ],
      "metadata": {
        "id": "11FuSs21ceWq"
      }
    },
    {
      "cell_type": "markdown",
      "source": [
        "## Continous Variables - RankSum Test \n",
        "\n",
        "\n",
        "Null Hypothesis: The distributions are identical \n"
      ],
      "metadata": {
        "id": "_UwAlbkLchP6"
      }
    },
    {
      "cell_type": "code",
      "source": [
        "from scipy.stats import wilcoxon \n",
        "from scipy.stats import ranksums \n",
        "import numpy as np\n",
        "\n",
        "\n",
        "y_cont = np.array(df_allContinous['SM_USE_banking'])\n",
        "x1_cont = np.array(df_allContinous['ECOM_video_spend'])\n",
        "x2_cont = np.array(df_allContinous['ECOM_ebook_spend'])\n",
        "x3_cont = np.array(df_allContinous['ECOM_podcast_spend'])\n",
        "x4_cont = np.array(df_allContinous['ECOM_news_spend'])\n",
        "x5_cont = np.array(df_allContinous['ECOM_giftcard_spend'])\n",
        "x6_cont = np.array(df_allContinous['ECOM_gambling_spend'])\n",
        "x7_cont = np.array(df_allContinous['ECOM_gaming_spend'])\n",
        "x8_cont = np.array(df_allContinous['ECOM_storage_spend'])\n",
        "x9_cont = np.array(df_allContinous['ECOM_software_spend'])\n",
        "x10_cont = np.array(df_allContinous['ECOM_other_spend'])\n",
        "x11_cont = np.array(df_allContinous['ECOM_totalspend'])\n",
        "x12_cont = np.array(df_allContinous['PURCH_clothing'])\n",
        "x13_cont = np.array(df_allContinous['RIDE_spend'])\n",
        "x14_cont = np.array(df_allContinous['SRVC_total_spend'])\n",
        "x15_cont = np.array(df_allContinous['Average_spending_online'])\n",
        "\n"
      ],
      "metadata": {
        "id": "JPm82CxqcGaD"
      },
      "execution_count": 77,
      "outputs": []
    },
    {
      "cell_type": "code",
      "source": [
        "def do_rankSumTest(x, y):\n",
        "  \"\"\"\n",
        "  This function performs a ranksum test and outputs the results as the U statistics and p value\n",
        "  \"\"\"\n",
        "\n",
        "  res = ranksums(x, y)\n",
        "  \n",
        "\n",
        "  return u_val, p_val "
      ],
      "metadata": {
        "id": "QrJRmo3Rd5xq"
      },
      "execution_count": 78,
      "outputs": []
    },
    {
      "cell_type": "code",
      "source": [
        "def rankSum_decision(alpha, p):\n",
        "  \"\"\"\n",
        "  If p-value < alpha = 0.05, reject the null hypothesis : they are independent. \n",
        "  Else, there is a relationship. \n",
        "  \"\"\"\n",
        "  if p < alpha: \n",
        "    print(\"Reject the Null Hypothesis. The two samples are independent, there is NO RELATIONSHIP.\")\n",
        "  else:\n",
        "    print(\"Cannot reject Null Hypothesis. The two samples might be dependent. There might be a relationship.\")\n",
        "\n",
        "  "
      ],
      "metadata": {
        "id": "Pu-FwEmae1QE"
      },
      "execution_count": 79,
      "outputs": []
    },
    {
      "cell_type": "code",
      "source": [
        "def final_results(var_name, x_, y_):\n",
        "  print('For ', var_name, ' the results are as follows: ')\n",
        "  print('WilCoXon statistic: ', do_rankSumTest(x1_cont, y_cont)[0])\n",
        "  print('P-Value: ', do_rankSumTest(x1_cont, y_cont)[1])\n",
        "  p_value = do_rankSumTest(x1_cont, y_cont)[1]\n",
        "  print('The decision is: ') \n",
        "  rankSum_decision(0.05, p_value)"
      ],
      "metadata": {
        "id": "7qu-bb8neS4G"
      },
      "execution_count": 80,
      "outputs": []
    },
    {
      "cell_type": "code",
      "source": [
        "print('ECOM_video_spend')\n",
        "rs_01 = ranksums(x1_cont, y_cont)\n",
        "print('U Statistic: ', rs_01.statistic)\n",
        "print('p-value: ', rs_01.pvalue)\n",
        "rankSum_decision(0.05, rs_01.pvalue)\n"
      ],
      "metadata": {
        "colab": {
          "base_uri": "https://localhost:8080/"
        },
        "id": "lHhF1bVSejHK",
        "outputId": "d161270e-5249-449c-aea1-be3db8f94f14"
      },
      "execution_count": 112,
      "outputs": [
        {
          "output_type": "stream",
          "name": "stdout",
          "text": [
            "ECOM_video_spend\n",
            "U Statistic:  89.76772777245463\n",
            "p-value:  0.0\n",
            "Reject the Null Hypothesis. The two samples are independent, there is NO RELATIONSHIP.\n"
          ]
        }
      ]
    },
    {
      "cell_type": "code",
      "source": [
        "print('ECOM_ebook_spend')\n",
        "rs_02 = ranksums(x2_cont, y_cont)\n",
        "print('U Statistic: ', rs_02.statistic)\n",
        "print('p-value: ', rs_02.pvalue)\n",
        "rankSum_decision(0.05, rs_02.pvalue)\n"
      ],
      "metadata": {
        "colab": {
          "base_uri": "https://localhost:8080/"
        },
        "id": "sniOPi2pgzgL",
        "outputId": "505bef9b-795c-46cc-9c8f-6be3866a726c"
      },
      "execution_count": 113,
      "outputs": [
        {
          "output_type": "stream",
          "name": "stdout",
          "text": [
            "ECOM_ebook_spend\n",
            "U Statistic:  93.68542080404748\n",
            "p-value:  0.0\n",
            "Reject the Null Hypothesis. The two samples are independent, there is NO RELATIONSHIP.\n"
          ]
        }
      ]
    },
    {
      "cell_type": "code",
      "source": [
        "print('ECOM_podcast_spend')\n",
        "rs_03 = ranksums(x3_cont, y_cont)\n",
        "print('U Statistic: ', rs_03.statistic)\n",
        "print('p-value: ', rs_03.pvalue)\n",
        "rankSum_decision(0.05, rs_03.pvalue)\n"
      ],
      "metadata": {
        "colab": {
          "base_uri": "https://localhost:8080/"
        },
        "id": "UDd-UIODgzeS",
        "outputId": "6b7c98dc-98be-4a9f-a2ca-23ff5e8def6a"
      },
      "execution_count": 114,
      "outputs": [
        {
          "output_type": "stream",
          "name": "stdout",
          "text": [
            "ECOM_podcast_spend\n",
            "U Statistic:  70.46259101153585\n",
            "p-value:  0.0\n",
            "Reject the Null Hypothesis. The two samples are independent, there is NO RELATIONSHIP.\n"
          ]
        }
      ]
    },
    {
      "cell_type": "code",
      "source": [
        "print('ECOM_news_spend')\n",
        "rs_04 = ranksums(x4_cont, y_cont)\n",
        "print('U Statistic: ', rs_04.statistic)\n",
        "print('p-value: ', rs_04.pvalue)\n",
        "rankSum_decision(0.05, rs_04.pvalue)\n"
      ],
      "metadata": {
        "colab": {
          "base_uri": "https://localhost:8080/"
        },
        "id": "ji6rK4HogzcX",
        "outputId": "7600c49e-bda8-4311-b7b9-41b829e20a91"
      },
      "execution_count": 115,
      "outputs": [
        {
          "output_type": "stream",
          "name": "stdout",
          "text": [
            "ECOM_news_spend\n",
            "U Statistic:  22.619840988823146\n",
            "p-value:  2.7647454245675254e-113\n",
            "Reject the Null Hypothesis. The two samples are independent, there is NO RELATIONSHIP.\n"
          ]
        }
      ]
    },
    {
      "cell_type": "code",
      "source": [
        "print('ECOM_giftcard_spend')\n",
        "rs_05 = ranksums(x5_cont, y_cont)\n",
        "print('U Statistic: ', rs_05.statistic)\n",
        "print('p-value: ', rs_05.pvalue)\n",
        "rankSum_decision(0.05, rs_05.pvalue)\n"
      ],
      "metadata": {
        "colab": {
          "base_uri": "https://localhost:8080/"
        },
        "id": "woGgXXzbgzaW",
        "outputId": "aa6f4266-e233-455f-ff4b-3b3bcb83fcf6"
      },
      "execution_count": 116,
      "outputs": [
        {
          "output_type": "stream",
          "name": "stdout",
          "text": [
            "ECOM_giftcard_spend\n",
            "U Statistic:  54.96039777964721\n",
            "p-value:  0.0\n",
            "Reject the Null Hypothesis. The two samples are independent, there is NO RELATIONSHIP.\n"
          ]
        }
      ]
    },
    {
      "cell_type": "code",
      "source": [
        "print('ECOM_gambling_spend')\n",
        "rs_06 = ranksums(x6_cont, y_cont)\n",
        "print('U Statistic: ', rs_06.statistic)\n",
        "print('p-value: ', rs_06.pvalue)\n",
        "rankSum_decision(0.05, rs_06.pvalue)\n"
      ],
      "metadata": {
        "colab": {
          "base_uri": "https://localhost:8080/"
        },
        "id": "TLUaa35ygzYS",
        "outputId": "4260721f-fe4a-4e9f-975c-93f2de19791e"
      },
      "execution_count": 117,
      "outputs": [
        {
          "output_type": "stream",
          "name": "stdout",
          "text": [
            "ECOM_gambling_spend\n",
            "U Statistic:  57.50903874769051\n",
            "p-value:  0.0\n",
            "Reject the Null Hypothesis. The two samples are independent, there is NO RELATIONSHIP.\n"
          ]
        }
      ]
    },
    {
      "cell_type": "code",
      "source": [
        "print('ECOM_gaming_spend')\n",
        "rs_07 = ranksums(x7_cont, y_cont)\n",
        "print('U Statistic: ', rs_07.statistic)\n",
        "print('p-value: ', rs_07.pvalue)\n",
        "rankSum_decision(0.05, rs_07.pvalue)\n"
      ],
      "metadata": {
        "colab": {
          "base_uri": "https://localhost:8080/"
        },
        "id": "C0GpKIHogzV8",
        "outputId": "7e10e611-10b6-4d0e-d253-cd0b23818a18"
      },
      "execution_count": 118,
      "outputs": [
        {
          "output_type": "stream",
          "name": "stdout",
          "text": [
            "ECOM_gaming_spend\n",
            "U Statistic:  49.0197338653684\n",
            "p-value:  0.0\n",
            "Reject the Null Hypothesis. The two samples are independent, there is NO RELATIONSHIP.\n"
          ]
        }
      ]
    },
    {
      "cell_type": "code",
      "source": [
        "print('ECOM_storage_spend')\n",
        "rs_08 = ranksums(x8_cont, y_cont)\n",
        "print('U Statistic: ', rs_08.statistic)\n",
        "print('p-value: ', rs_08.pvalue)\n",
        "rankSum_decision(0.05, rs_08.pvalue)\n"
      ],
      "metadata": {
        "colab": {
          "base_uri": "https://localhost:8080/"
        },
        "id": "SFjFPKEvgzTq",
        "outputId": "08af26aa-c138-4f01-da57-c214dcffa948"
      },
      "execution_count": 119,
      "outputs": [
        {
          "output_type": "stream",
          "name": "stdout",
          "text": [
            "ECOM_storage_spend\n",
            "U Statistic:  64.87267316648206\n",
            "p-value:  0.0\n",
            "Reject the Null Hypothesis. The two samples are independent, there is NO RELATIONSHIP.\n"
          ]
        }
      ]
    },
    {
      "cell_type": "code",
      "source": [
        "print('ECOM_software_spend')\n",
        "rs_09 = ranksums(x9_cont, y_cont)\n",
        "print('U Statistic: ', rs_09.statistic)\n",
        "print('p-value: ', rs_09.pvalue)\n",
        "rankSum_decision(0.05, rs_09.pvalue)\n"
      ],
      "metadata": {
        "colab": {
          "base_uri": "https://localhost:8080/"
        },
        "id": "KlUyWLaSgzRc",
        "outputId": "03e5a265-5027-4433-e006-7e87ce35ebef"
      },
      "execution_count": 120,
      "outputs": [
        {
          "output_type": "stream",
          "name": "stdout",
          "text": [
            "ECOM_software_spend\n",
            "U Statistic:  64.06599448711816\n",
            "p-value:  0.0\n",
            "Reject the Null Hypothesis. The two samples are independent, there is NO RELATIONSHIP.\n"
          ]
        }
      ]
    },
    {
      "cell_type": "code",
      "source": [
        "print('ECOM_other_spend')\n",
        "rs_10 = ranksums(x10_cont, y_cont)\n",
        "print('U Statistic: ', rs_10.statistic)\n",
        "print('p-value: ', rs_10.pvalue)\n",
        "rankSum_decision(0.05, rs_10.pvalue)\n"
      ],
      "metadata": {
        "colab": {
          "base_uri": "https://localhost:8080/"
        },
        "id": "GmiC2NmFgzKT",
        "outputId": "37bce363-7f72-42a0-e3f8-87a6c200037d"
      },
      "execution_count": 121,
      "outputs": [
        {
          "output_type": "stream",
          "name": "stdout",
          "text": [
            "ECOM_other_spend\n",
            "U Statistic:  69.56223877602092\n",
            "p-value:  0.0\n",
            "Reject the Null Hypothesis. The two samples are independent, there is NO RELATIONSHIP.\n"
          ]
        }
      ]
    },
    {
      "cell_type": "code",
      "source": [
        "print('ECOM_totalspend')\n",
        "rs_11 = ranksums(x11_cont, y_cont)\n",
        "print('U Statistic: ', rs_11.statistic)\n",
        "print('p-value: ', rs_11.pvalue)\n",
        "rankSum_decision(0.05, rs_11.pvalue)\n"
      ],
      "metadata": {
        "colab": {
          "base_uri": "https://localhost:8080/"
        },
        "id": "-02eyOvgg44y",
        "outputId": "f70747ba-97c2-4d42-b2fb-0d58632d1686"
      },
      "execution_count": 122,
      "outputs": [
        {
          "output_type": "stream",
          "name": "stdout",
          "text": [
            "ECOM_totalspend\n",
            "U Statistic:  57.57007054696351\n",
            "p-value:  0.0\n",
            "Reject the Null Hypothesis. The two samples are independent, there is NO RELATIONSHIP.\n"
          ]
        }
      ]
    },
    {
      "cell_type": "code",
      "source": [
        "print('PURCH_clothing')\n",
        "rs_12 = ranksums(x12_cont, y_cont)\n",
        "print('U Statistic: ', rs_12.statistic)\n",
        "print('p-value: ', rs_12.pvalue)\n",
        "rankSum_decision(0.05, rs_12.pvalue)\n"
      ],
      "metadata": {
        "colab": {
          "base_uri": "https://localhost:8080/"
        },
        "id": "D__1v6hPg42k",
        "outputId": "42324681-a028-40ef-f116-ba9ed5812c1b"
      },
      "execution_count": 123,
      "outputs": [
        {
          "output_type": "stream",
          "name": "stdout",
          "text": [
            "PURCH_clothing\n",
            "U Statistic:  140.40726524169006\n",
            "p-value:  0.0\n",
            "Reject the Null Hypothesis. The two samples are independent, there is NO RELATIONSHIP.\n"
          ]
        }
      ]
    },
    {
      "cell_type": "code",
      "source": [
        "print('RIDE_spend')\n",
        "rs_13 = ranksums(x13_cont, y_cont)\n",
        "print('U Statistic: ', rs_13.statistic)\n",
        "print('p-value: ', rs_13.pvalue)\n",
        "rankSum_decision(0.05, rs_13.pvalue)\n"
      ],
      "metadata": {
        "colab": {
          "base_uri": "https://localhost:8080/"
        },
        "id": "KLUGH53yg40N",
        "outputId": "32c6baf2-536a-4746-8f45-cd9b80660d19"
      },
      "execution_count": 124,
      "outputs": [
        {
          "output_type": "stream",
          "name": "stdout",
          "text": [
            "RIDE_spend\n",
            "U Statistic:  140.66604327033588\n",
            "p-value:  0.0\n",
            "Reject the Null Hypothesis. The two samples are independent, there is NO RELATIONSHIP.\n"
          ]
        }
      ]
    },
    {
      "cell_type": "code",
      "source": [
        "print('SRVC_total_spend')\n",
        "rs_14 = ranksums(x14_cont, y_cont)\n",
        "print('U Statistic: ', rs_14.statistic)\n",
        "print('p-value: ', rs_14.pvalue)\n",
        "rankSum_decision(0.05, rs_14.pvalue)\n"
      ],
      "metadata": {
        "colab": {
          "base_uri": "https://localhost:8080/"
        },
        "id": "6APOy5c2g4xt",
        "outputId": "36f0db2f-0f4a-4523-f857-ddf007d3b262"
      },
      "execution_count": 125,
      "outputs": [
        {
          "output_type": "stream",
          "name": "stdout",
          "text": [
            "SRVC_total_spend\n",
            "U Statistic:  137.1296159808691\n",
            "p-value:  0.0\n",
            "Reject the Null Hypothesis. The two samples are independent, there is NO RELATIONSHIP.\n"
          ]
        }
      ]
    },
    {
      "cell_type": "code",
      "source": [
        "print('Average_spending_online')\n",
        "rs_15 = ranksums(x15_cont, y_cont)\n",
        "print('U Statistic: ', rs_15.statistic)\n",
        "print('p-value: ', rs_15.pvalue)\n",
        "rankSum_decision(0.05, rs_15.pvalue)\n"
      ],
      "metadata": {
        "colab": {
          "base_uri": "https://localhost:8080/"
        },
        "id": "DUEu_e-Xg4vS",
        "outputId": "4fca77b3-fe37-41df-e8bf-d363775a747d"
      },
      "execution_count": 126,
      "outputs": [
        {
          "output_type": "stream",
          "name": "stdout",
          "text": [
            "Average_spending_online\n",
            "U Statistic:  129.1700910236407\n",
            "p-value:  0.0\n",
            "Reject the Null Hypothesis. The two samples are independent, there is NO RELATIONSHIP.\n"
          ]
        }
      ]
    },
    {
      "cell_type": "code",
      "source": [
        "df_allContinous.to_csv('cont_data.csv')"
      ],
      "metadata": {
        "id": "z4t9Shazg4ss"
      },
      "execution_count": 128,
      "outputs": []
    },
    {
      "cell_type": "code",
      "source": [],
      "metadata": {
        "id": "C9s2pyUXlO0-"
      },
      "execution_count": null,
      "outputs": []
    }
  ]
}